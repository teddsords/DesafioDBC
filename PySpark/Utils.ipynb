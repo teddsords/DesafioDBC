{
 "cells": [
  {
   "cell_type": "code",
   "execution_count": 0,
   "metadata": {
    "application/vnd.databricks.v1+cell": {
     "cellMetadata": {
      "byteLimit": 2048000,
      "rowLimit": 10000
     },
     "inputWidgets": {},
     "nuid": "3159861c-7607-450f-bfa6-ea4baa065e95",
     "showTitle": false,
     "tableResultSettingsMap": {},
     "title": ""
    }
   },
   "outputs": [],
   "source": [
    "import requests\n",
    "\n",
    "class Utils():\n",
    "    jdbc_url = \"jdbc:postgresql://ton-postgres-server.postgres.database.azure.com:5432/postgres?user=<insert_user>&password=<insert_password>&sslmode=require\"\n",
    "    user = \"<insert_user>\"\n",
    "    password = \"<insert_password>\"\n",
    "    driver = \"org.postgresql.Driver\"\n",
    "    \n",
    "    @staticmethod\n",
    "    def get_databricks_ip():\n",
    "\n",
    "        # Realiza uma requisição para obter o IP público da instância\n",
    "        response = requests.get(\"https://api.ipify.org?format=json\")\n",
    "\n",
    "        return response.json().get('ip')\n",
    "    \n",
    "    @staticmethod\n",
    "    def get_jdbc_url():\n",
    "        return Utils.jdbc_url\n",
    "    \n",
    "    def sql_query_executor(jdbc_url, query, properties):\n",
    "        return spark.read.jdbc(url=jdbc_url, table=query, properties=properties)\n",
    "    \n",
    "    @staticmethod\n",
    "    def get_connection_properties():\n",
    "        return {\n",
    "            \"user\": Utils.user,\n",
    "            \"password\": Utils.password,\n",
    "            \"driver\": Utils.driver\n",
    "        } \n",
    "\n",
    "    @staticmethod\n",
    "    def write_csv(df, layer, file_name):\n",
    "        df.write.csv(f\"/dbfs/{layer}/{file_name}\", header=True)\n",
    "        print(f\"Arquivo '{file_name}' salvo com sucesso.\")\n",
    "\n",
    "    @staticmethod\n",
    "    def save_as_table(df, layer, table_name, mode=\"overwrite\"):\n",
    "        # Prefixar o nome da camada no nome da tabela\n",
    "        prefixed_table_name = f\"{layer}_{table_name}\"\n",
    "        \n",
    "        # Salvar o DataFrame como tabela no esquema padrão\n",
    "        df.write.mode(mode).saveAsTable(prefixed_table_name)\n",
    "        print(f\"Tabela '{prefixed_table_name}' salva com sucesso.\")\n",
    "\n",
    "    @staticmethod\n",
    "    def delete_layers_content():\n",
    "        # Deletar todo o conteúdo de dbfs:/bronze/\n",
    "        dbutils.fs.rm(\"/dbfs/bronze/\", recurse=True)\n",
    "        # Deletar todo o conteúdo de dbfs:/silver/\n",
    "        dbutils.fs.rm(\"/dbfs/silver/\", recurse=True)\n",
    "        # Deletar todo o conteúdo de dbfs:/gold/\n",
    "        dbutils.fs.rm(\"/dbfs/gold/\", recurse=True)\n"
   ]
  }
 ],
 "metadata": {
  "application/vnd.databricks.v1+notebook": {
   "dashboards": [],
   "environmentMetadata": null,
   "language": "python",
   "notebookMetadata": {
    "pythonIndentUnit": 4
   },
   "notebookName": "Utils",
   "widgets": {}
  }
 },
 "nbformat": 4,
 "nbformat_minor": 0
}
