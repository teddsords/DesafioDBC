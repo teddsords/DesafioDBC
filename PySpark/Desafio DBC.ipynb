{
 "cells": [
  {
   "cell_type": "markdown",
   "metadata": {
    "application/vnd.databricks.v1+cell": {
     "cellMetadata": {},
     "inputWidgets": {},
     "nuid": "951990fb-8343-498f-a36e-ca50fe09d27b",
     "showTitle": false,
     "tableResultSettingsMap": {},
     "title": ""
    }
   },
   "source": [
    "# Desafio DBC\n",
    "#### Desenvolvedor: Teddy Ordoñez\n",
    "#### Data: 6/12/2024\n",
    "\n",
    "Você deve primeiramente modelar a estrutura descrita anteriormente em um banco de dados de sua preferência, após isso criar um componente capaz de ler os dados das tabelas criadas e escrever e um único arquivo flat, em um diretório local, ou seja, todas as tabelas devem ser agregadas para formar uma visão única, onde a estrutura do arquivo é representada da seguinte forma:\n",
    "\n",
    "![Estrutura final](/files/images/estrutura_final_dbc.png)\n",
    "\n",
    "\n",
    "## Resolução\n",
    "\n",
    "### 1. Criação do banco de dados\n",
    "Para resolver o desafio criado pela DBC Company para a vaga de engenheiro de dados pleno foi desenvolvido um banco de dados na nuvem Azure. O serviço utilizado foi o **Azure Database for PostgreSQL** em modo de desenvolvimento. O banco de dados foi configurado na conta pessoal do desenvolvedor. Uma vez o banco de dados foi criado no ambiente nuvem foi necessário se conectar ao mesmo utilizando a ferramenta **DBeaver**. \n",
    "\n",
    "Ao se conectar utilizando a ferramenta foi possível executar os códigos SQL para a criação da estrutura mostrada no **README** deste projeto, os códigos estão disponíveis na pasta SQL. Uma vez as tabelas são criadas é possível passar para a inserção de dados fictícios. Para a criação dos dados fictícios foi utilizado o ChatGPT, onde foi específicado a estrutura de cada uma das tabelas e foi solicitado que cria-se 50 associados, 50 contas, 50 cartoões e 200 movimentações (cada associado com 4 transações). Feito isso a estrutura estava pronta para inciar o processo de ETL.\n",
    "\n",
    "### 2. Processo de ETL \n",
    "\n",
    "Para realizar o processo de ETL foi escolhida a ferramenta **Databricks** na sua versão de graça, conhecida como **Databricks Community** em conjunto com a ferramenta de PySpark.\n",
    "\n",
    "Tendo em vista que seria necessário ter funções que seriam utilizadas várias vezes foi criada uma classe Utils para facilitar a reutilização de código. Nessa classe é possível encontrar códigos como a escrita de arquivos CSVs, tabelas, execução de querys para o banco de dados, entre outras.\n",
    "\n",
    "Como primeiro passo é necessário obter o IP do Databricks Community para poder liberar o acesso no banco de dados com o fim de evitar acessos não desejados. Obtendo o endereço IP é realizado a liberação de acesso para leitura dos dados do banco de dados. \n",
    "\n",
    "#### 2.1 Leitura de dados e criação de camada bronze\n",
    "O primeiro passo é conectar-se ao banco de dados utilizando o JDBC. Na classe Utils foram criados os dados de acesso para não ter eles expostos no código, nela é possível encontrar a URL de acesso, usuário e senha. Para isso utilizamos a função chamada `sql_query_executor` passando por parâmetro a URL, nome da tabela e propriedades de login. \n",
    "\n",
    "Uma vez que os dados são lidos do banco de dados é possível criar a camada **bronze**, para isso os arquivos foram separados em pastas por tabelas onde o Spark irá criar o arquivo csv. Ao mesmo tempo os dados foram salvos dentro do Catalog `hive_metastore` no Schema `default`, tendo como prefixo o nome da camada específicada, por exemplo `bronze_associados`.\n",
    "\n",
    "#### 2.2 Transformação de dados\n",
    "Após a leitura dos dados da camada bronze é necessário realizar as transformações para padronizar os dados. As transformações aqui aplicadas foram simples como por exemplo:\n",
    "* Colunas do tipo `string` foram convertidas em maiúsculas;\n",
    "* Especificando o tipo da coluna para garantir qualidade nos dados.\n",
    "\n",
    "Após transformar os dados e salvar eles em variáveis novas, as mesmas seriam salvas na pasta específicada para a camada **silver**. Foram utilizadas as funções `write_csv` e `save_as_table` para atingir o resultado desejado.\n",
    "\n",
    "#### 2.3 Agrupamento de tabelas\n",
    "Como foi descrito na introdução do desafio seria necessário chegar na estrutura específicada pelos avaliadores, chamada de **movimento_flat**. Para atingir o objetivo mencionado anteriormente é necessário unir as tabelas com o fim de obter uma grande tabela com todos os dados esperados. \n",
    "\n",
    "1. Primeiramente as tabelas de **contas** e **associados** forma unidas utilizando a coluna `associado_id` utilizando o inner join. Ao mesmo tempo de fazer a união de ambos os DataFrames foram dados alias para as colunas para já ter os nomes esperados na estrutura final. A DataFrame resultante foi chamado de **associado_conta_df**.\n",
    "\n",
    "2. Após isso a união das tabelas **cartoes** e **movimentacoes** foram unidas utilizando a coluna `cartao_id` utilizando o inner join. Assim como mencionado no passo anterior, alias foram dados para as colunas. A DataFrame resultante foi chamado de **movimento_cartao_df**.\n",
    "\n",
    "3. Finalmente a união das tabelas **associado_conta_df** e **movimento_cartao_df** foi realizado para obter o resultado final, o qual foi salvo na variável `movimento_flat_df`. Para realizar a união destes DataFrames foram utilizadas as chaves `associado_id` e `conta_id` para garantir o resultado esperado. \n",
    "\n",
    "4. Após obter a estrutura desejada as colunas foram reordenadas para obter a ordem específicada na imagem apresentada na introdução da documentação.\n",
    "\n",
    "5. A estrutura desejada foi salva em arquivo CSV e como tabela com o prefixo de silver já que os dados estão de forma analítica. \n",
    "\n",
    "#### 2.4 Sumarização tabela Movimento Flat\n",
    "Com o intuíto de se ter os dados prontos para consumo pelos analistas de dados foi criada uma tabela com os dados sumarizados a partir da tabela **movimento_flat**. Os dados foram agrupados pelas seguintes colunas: \n",
    "* `nome_associado`\n",
    "* `sobrenome_associado`\n",
    "* `idade_associado`\n",
    "* `numero_cartao`\n",
    "* `tipo_conta`\n",
    "\n",
    "Foram criadas 5 novas colunas com os dados agregados para cada um dos associados. As colunas criadas foram:\n",
    "* `total_gastos` -> Soma de todos os gastos realizados\n",
    "* `num_transacoes` -> Quantidade de transações realizadas\n",
    "* `gasto_medio` -> Média dos gastos realizados\n",
    "* `gasto_maximo` -> Gasto máximo realizado\n",
    "* `gasto_minimo` -> Gasto minimo realiado\n",
    "\n",
    "\n",
    "Com essas colunas é possível criar um dashboard para poder realizar uma análise mais aprofundada e entender o comportamento dos clientes fictícios da base de dados. \n",
    "\n",
    "Esta tabela foi chamada de **resumo_gastos**, ela se encontra na camada **Gold** já que ela contém os dados sumarizados e prontos para consumo por analistas de dados."
   ]
  },
  {
   "cell_type": "code",
   "execution_count": 0,
   "metadata": {
    "application/vnd.databricks.v1+cell": {
     "cellMetadata": {
      "byteLimit": 2048000,
      "rowLimit": 10000
     },
     "inputWidgets": {},
     "nuid": "a189c9bc-3d6a-4153-8bc6-a8bc2849c555",
     "showTitle": true,
     "tableResultSettingsMap": {},
     "title": "Executando a classe Utils"
    }
   },
   "outputs": [],
   "source": [
    "%run ./Utils"
   ]
  },
  {
   "cell_type": "code",
   "execution_count": 0,
   "metadata": {
    "application/vnd.databricks.v1+cell": {
     "cellMetadata": {
      "byteLimit": 2048000,
      "rowLimit": 10000
     },
     "inputWidgets": {},
     "nuid": "09bd6066-0906-44b3-b13d-82cfb4b7ccb3",
     "showTitle": true,
     "tableResultSettingsMap": {},
     "title": "Importando as dependências"
    }
   },
   "outputs": [],
   "source": [
    "import pyspark.sql.functions as f\n",
    "from pyspark.sql.functions import col\n",
    "from pyspark.sql.types import IntegerType, StringType, DecimalType, TimestampType"
   ]
  },
  {
   "cell_type": "code",
   "execution_count": 0,
   "metadata": {
    "application/vnd.databricks.v1+cell": {
     "cellMetadata": {
      "byteLimit": 2048000,
      "rowLimit": 10000
     },
     "inputWidgets": {},
     "nuid": "0e175b2a-4632-42a0-9cd6-89839fc9f657",
     "showTitle": true,
     "tableResultSettingsMap": {},
     "title": "Obtendo o IP do Databricks"
    }
   },
   "outputs": [
    {
     "output_type": "stream",
     "name": "stdout",
     "output_type": "stream",
     "text": [
      "54.244.74.60\n"
     ]
    }
   ],
   "source": [
    "# Obtendo o IP do databricks para inserir nas permissões do banco de dados\n",
    "databricks_ip = Utils.get_databricks_ip()\n",
    "print(databricks_ip)"
   ]
  },
  {
   "cell_type": "code",
   "execution_count": 0,
   "metadata": {
    "application/vnd.databricks.v1+cell": {
     "cellMetadata": {
      "byteLimit": 2048000,
      "rowLimit": 10000
     },
     "inputWidgets": {},
     "nuid": "7367c334-ade0-4cd5-943b-8899220f7ef8",
     "showTitle": true,
     "tableResultSettingsMap": {},
     "title": "Apagando os dados existentes"
    }
   },
   "outputs": [],
   "source": [
    "Utils.delete_layers_content()"
   ]
  },
  {
   "cell_type": "code",
   "execution_count": 0,
   "metadata": {
    "application/vnd.databricks.v1+cell": {
     "cellMetadata": {
      "byteLimit": 2048000,
      "rowLimit": 10000
     },
     "inputWidgets": {},
     "nuid": "6ca0167c-a225-42a8-b2af-65032f69e74a",
     "showTitle": true,
     "tableResultSettingsMap": {},
     "title": "Lendo as tabelas do banco de dados"
    }
   },
   "outputs": [],
   "source": [
    "url = Utils.get_jdbc_url()  # Obtendo a URL para conectar no banco de dados\n",
    "connection_properties = Utils.get_connection_properties()  # Obtendo as credenciais do banco de dados\n",
    "\n",
    "# Lendo cada uma das tabelas do banco de dados\n",
    "associados_df = Utils.sql_query_executor(url, 'associados', connection_properties)\n",
    "contas_df = Utils.sql_query_executor(url, 'contas', connection_properties)\n",
    "cartoes_df = Utils.sql_query_executor(url, 'cartoes', connection_properties)\n",
    "movimentacoes_df = Utils.sql_query_executor(url, 'movimentacoes', connection_properties)\n"
   ]
  },
  {
   "cell_type": "markdown",
   "metadata": {
    "application/vnd.databricks.v1+cell": {
     "cellMetadata": {
      "byteLimit": 2048000,
      "rowLimit": 10000
     },
     "inputWidgets": {},
     "nuid": "378bdcf8-1d99-4591-9f3b-4c1740520fb1",
     "showTitle": false,
     "tableResultSettingsMap": {},
     "title": ""
    }
   },
   "source": [
    "Criando a camada bronze dos dados com arquivos CSV e tabelas no Unity Catalog"
   ]
  },
  {
   "cell_type": "code",
   "execution_count": 0,
   "metadata": {
    "application/vnd.databricks.v1+cell": {
     "cellMetadata": {
      "byteLimit": 2048000,
      "rowLimit": 10000
     },
     "inputWidgets": {},
     "nuid": "1cdd6c38-75c4-4284-a5e1-eefac6c02ad0",
     "showTitle": true,
     "tableResultSettingsMap": {},
     "title": "Salvando arquivos CSVs na camada bronze"
    }
   },
   "outputs": [
    {
     "output_type": "stream",
     "name": "stdout",
     "output_type": "stream",
     "text": [
      "Arquivo 'associados' salvo com sucesso.\nArquivo 'contas' salvo com sucesso.\nArquivo 'cartoes' salvo com sucesso.\nArquivo 'movimentacoes' salvo com sucesso.\n"
     ]
    }
   ],
   "source": [
    "# Salvando cada um dos DataFrames em arquivos CSV\n",
    "Utils.write_csv(associados_df, 'bronze', 'associados')\n",
    "Utils.write_csv(contas_df, 'bronze', 'contas')\n",
    "Utils.write_csv(cartoes_df, 'bronze', 'cartoes')\n",
    "Utils.write_csv(movimentacoes_df, 'bronze', 'movimentacoes')"
   ]
  },
  {
   "cell_type": "code",
   "execution_count": 0,
   "metadata": {
    "application/vnd.databricks.v1+cell": {
     "cellMetadata": {
      "byteLimit": 2048000,
      "rowLimit": 10000
     },
     "inputWidgets": {},
     "nuid": "f901e9c9-cb86-4833-9f09-7e13dc47f954",
     "showTitle": true,
     "tableResultSettingsMap": {},
     "title": "Salvando tabelas na camada bronze"
    }
   },
   "outputs": [
    {
     "output_type": "stream",
     "name": "stdout",
     "output_type": "stream",
     "text": [
      "Tabela 'bronze_associados' salva com sucesso.\nTabela 'bronze_contas' salva com sucesso.\nTabela 'bronze_cartoes' salva com sucesso.\nTabela 'bronze_movimentacoes' salva com sucesso.\n"
     ]
    }
   ],
   "source": [
    "# Criando tabelas na camada bronze\n",
    "Utils.save_as_table(associados_df, 'bronze', 'associados')\n",
    "Utils.save_as_table(contas_df, 'bronze', 'contas')\n",
    "Utils.save_as_table(cartoes_df, 'bronze', 'cartoes')\n",
    "Utils.save_as_table(movimentacoes_df, 'bronze', 'movimentacoes')"
   ]
  },
  {
   "cell_type": "markdown",
   "metadata": {
    "application/vnd.databricks.v1+cell": {
     "cellMetadata": {
      "byteLimit": 2048000,
      "rowLimit": 10000
     },
     "inputWidgets": {},
     "nuid": "3ba2f2d4-a1d8-4f68-b53d-10634d8493ed",
     "showTitle": false,
     "tableResultSettingsMap": {},
     "title": ""
    }
   },
   "source": [
    "Aplçicando transformações simples para ter a camada Silver dos dados.\n",
    "\n",
    "Transformações aplicadas:\n",
    "* Colunas do tipo **string** em maiúsculo\n",
    "* Especificando o tipo da coluna."
   ]
  },
  {
   "cell_type": "code",
   "execution_count": 0,
   "metadata": {
    "application/vnd.databricks.v1+cell": {
     "cellMetadata": {
      "byteLimit": 2048000,
      "rowLimit": 10000
     },
     "inputWidgets": {},
     "nuid": "91fefc78-e156-4296-a036-196bdc9d86a8",
     "showTitle": true,
     "tableResultSettingsMap": {},
     "title": "Transformando dados para camada silver"
    }
   },
   "outputs": [],
   "source": [
    "# Transformando DataFrame de associados\n",
    "associados_silver_df = associados_df.select(\n",
    "    col('associado_id').cast(IntegerType()),\n",
    "    f.upper(col('nome')).cast(StringType()).alias('nome'),\n",
    "    f.upper(col('sobrenome')).cast(StringType()).alias('sobrenome'),\n",
    "    col('idade').cast(IntegerType()),\n",
    "    f.upper(col('email')).cast(StringType()).alias('email')\n",
    ")\n",
    "\n",
    "# Transformando DataFrame de Contas\n",
    "contas_silver_df = contas_df.select(\n",
    "    col('conta_id').cast(IntegerType()),\n",
    "    f.upper(col('tipo')).cast(StringType()).alias('tipo'),\n",
    "    col('data_criacao').cast(TimestampType()),\n",
    "    col('associado_id').cast(IntegerType())\n",
    ")\n",
    "\n",
    "# Transformando DataFrame de Cartões\n",
    "cartoes_silver_df = cartoes_df.select(\n",
    "    col('cartao_id').cast(IntegerType()),\n",
    "    col('num_cartao').cast(StringType()),\n",
    "    f.upper(col('nom_impresso')).cast(StringType()).alias('nom_impresso'),\n",
    "    col('data_criacao').cast(TimestampType()),\n",
    "    col('conta_id').cast(IntegerType()),\n",
    "    col('associado_id').cast(IntegerType())\n",
    ")\n",
    "\n",
    "# Transformando DataFrame de Movimentações\n",
    "movimentacoes_silver_df = movimentacoes_df.select(\n",
    "    col('movimentacao_id').cast(IntegerType()),\n",
    "    col('vlr_transacao').cast(DecimalType()),\n",
    "    f.upper(col('des_transacao')).alias('des_transacao'),\n",
    "    col('data_movimento').cast(TimestampType()),\n",
    "    col('cartao_id').cast(IntegerType())\n",
    ")"
   ]
  },
  {
   "cell_type": "code",
   "execution_count": 0,
   "metadata": {
    "application/vnd.databricks.v1+cell": {
     "cellMetadata": {
      "byteLimit": 2048000,
      "rowLimit": 10000
     },
     "inputWidgets": {},
     "nuid": "03d1a941-de1a-4f2c-a0dd-5090f540cf6a",
     "showTitle": true,
     "tableResultSettingsMap": {},
     "title": "Salvando arquivos CSVs na camada silver"
    }
   },
   "outputs": [
    {
     "output_type": "stream",
     "name": "stdout",
     "output_type": "stream",
     "text": [
      "Arquivo 'associados' salvo com sucesso.\nArquivo 'contas' salvo com sucesso.\nArquivo 'cartoes' salvo com sucesso.\nArquivo 'movimentacoes' salvo com sucesso.\n"
     ]
    }
   ],
   "source": [
    "# Salvando DataFrames na camada silver\n",
    "Utils.write_csv(associados_silver_df, 'silver', 'associados')\n",
    "Utils.write_csv(contas_silver_df, 'silver', 'contas')\n",
    "Utils.write_csv(cartoes_silver_df, 'silver', 'cartoes')\n",
    "Utils.write_csv(movimentacoes_silver_df, 'silver', 'movimentacoes')"
   ]
  },
  {
   "cell_type": "code",
   "execution_count": 0,
   "metadata": {
    "application/vnd.databricks.v1+cell": {
     "cellMetadata": {
      "byteLimit": 2048000,
      "rowLimit": 10000
     },
     "inputWidgets": {},
     "nuid": "dce2f9ba-d2cb-4e51-9c12-ba04d834cb24",
     "showTitle": true,
     "tableResultSettingsMap": {},
     "title": "Salvando tabelas na camada silver"
    }
   },
   "outputs": [
    {
     "output_type": "stream",
     "name": "stdout",
     "output_type": "stream",
     "text": [
      "Tabela 'silver_associados' salva com sucesso.\nTabela 'silver_contas' salva com sucesso.\nTabela 'silver_cartoes' salva com sucesso.\nTabela 'silver_movimentacoes' salva com sucesso.\n"
     ]
    }
   ],
   "source": [
    "# Salvando os DataFrames como tabelas na camada silver\n",
    "Utils.save_as_table(associados_silver_df, 'silver', 'associados')\n",
    "Utils.save_as_table(contas_silver_df, 'silver', 'contas')\n",
    "Utils.save_as_table(cartoes_silver_df, 'silver', 'cartoes')\n",
    "Utils.save_as_table(movimentacoes_silver_df, 'silver', 'movimentacoes')"
   ]
  },
  {
   "cell_type": "code",
   "execution_count": 0,
   "metadata": {
    "application/vnd.databricks.v1+cell": {
     "cellMetadata": {
      "byteLimit": 2048000,
      "rowLimit": 10000
     },
     "inputWidgets": {},
     "nuid": "143d83b5-47eb-4ad9-87a0-77c822385e15",
     "showTitle": true,
     "tableResultSettingsMap": {},
     "title": "Unindo tabelas"
    }
   },
   "outputs": [
    {
     "output_type": "display_data",
     "data": {
      "text/html": [
       "<style scoped>\n",
       "  .table-result-container {\n",
       "    max-height: 300px;\n",
       "    overflow: auto;\n",
       "  }\n",
       "  table, th, td {\n",
       "    border: 1px solid black;\n",
       "    border-collapse: collapse;\n",
       "  }\n",
       "  th, td {\n",
       "    padding: 5px;\n",
       "  }\n",
       "  th {\n",
       "    text-align: left;\n",
       "  }\n",
       "</style><div class='table-result-container'><table class='table-result'><thead style='background-color: white'><tr><th>nome_associado</th><th>sobrenome_associado</th><th>idade_associado</th><th>vlr_transacao_movimento</th><th>des_transacao_movimento</th><th>data_movimento</th><th>numero_cartao</th><th>nome_impresso_cartao</th><th>data_criacao_cartao</th><th>tipo_conta</th><th>data_criacao_conta</th></tr></thead><tbody><tr><td>DIEGO</td><td>BARROS</td><td>37</td><td>175</td><td>COMPRA SUPERMERCADO</td><td>2024-02-01T10:30:00Z</td><td>1122334455667789</td><td>DIEGO BARROS</td><td>2024-01-01T16:45:00Z</td><td>CORRENTE</td><td>2024-06-01T14:30:00Z</td></tr><tr><td>DIEGO</td><td>BARROS</td><td>37</td><td>150</td><td>COMPRA SUPERMERCADO</td><td>2024-04-01T10:30:00Z</td><td>1122334455667789</td><td>DIEGO BARROS</td><td>2024-01-01T16:45:00Z</td><td>CORRENTE</td><td>2024-06-01T14:30:00Z</td></tr><tr><td>DIEGO</td><td>BARROS</td><td>37</td><td>180</td><td>COMPRA SUPERMERCADO</td><td>2024-06-01T10:30:00Z</td><td>1122334455667789</td><td>DIEGO BARROS</td><td>2024-01-01T16:45:00Z</td><td>CORRENTE</td><td>2024-06-01T14:30:00Z</td></tr><tr><td>DIEGO</td><td>BARROS</td><td>37</td><td>150</td><td>COMPRA SUPERMERCADO</td><td>2024-08-01T10:30:00Z</td><td>1122334455667789</td><td>DIEGO BARROS</td><td>2024-01-01T16:45:00Z</td><td>CORRENTE</td><td>2024-06-01T14:30:00Z</td></tr><tr><td>ROBERTA</td><td>ANTUNES</td><td>28</td><td>50</td><td>ASSINATURA MENSAL</td><td>2024-02-04T14:10:00Z</td><td>4455667788990012</td><td>ROBERTA ANTUNES</td><td>2024-01-04T14:00:00Z</td><td>POUPANÇA</td><td>2023-12-01T10:40:00Z</td></tr><tr><td>ROBERTA</td><td>ANTUNES</td><td>28</td><td>75</td><td>ASSINATURA MENSAL</td><td>2024-04-04T14:10:00Z</td><td>4455667788990012</td><td>ROBERTA ANTUNES</td><td>2024-01-04T14:00:00Z</td><td>POUPANÇA</td><td>2023-12-01T10:40:00Z</td></tr><tr><td>ROBERTA</td><td>ANTUNES</td><td>28</td><td>120</td><td>ASSINATURA MENSAL</td><td>2024-06-04T14:10:00Z</td><td>4455667788990012</td><td>ROBERTA ANTUNES</td><td>2024-01-04T14:00:00Z</td><td>POUPANÇA</td><td>2023-12-01T10:40:00Z</td></tr><tr><td>ROBERTA</td><td>ANTUNES</td><td>28</td><td>120</td><td>ASSINATURA MENSAL</td><td>2024-08-04T14:10:00Z</td><td>4455667788990012</td><td>ROBERTA ANTUNES</td><td>2024-01-04T14:00:00Z</td><td>POUPANÇA</td><td>2023-12-01T10:40:00Z</td></tr><tr><td>JÚLIA</td><td>FONSECA</td><td>31</td><td>150</td><td>JANTAR EM RESTAURANTE</td><td>2024-01-28T12:15:00Z</td><td>8899001122334455</td><td>JÚLIA FONSECA</td><td>2023-12-28T12:15:00Z</td><td>POUPANÇA</td><td>2023-09-10T16:45:00Z</td></tr><tr><td>JÚLIA</td><td>FONSECA</td><td>31</td><td>500</td><td>JANTAR EM RESTAURANTE</td><td>2024-03-28T12:15:00Z</td><td>8899001122334455</td><td>JÚLIA FONSECA</td><td>2023-12-28T12:15:00Z</td><td>POUPANÇA</td><td>2023-09-10T16:45:00Z</td></tr><tr><td>JÚLIA</td><td>FONSECA</td><td>31</td><td>400</td><td>JANTAR EM RESTAURANTE</td><td>2024-05-28T12:15:00Z</td><td>8899001122334455</td><td>JÚLIA FONSECA</td><td>2023-12-28T12:15:00Z</td><td>POUPANÇA</td><td>2023-09-10T16:45:00Z</td></tr><tr><td>JÚLIA</td><td>FONSECA</td><td>31</td><td>150</td><td>JANTAR EM RESTAURANTE</td><td>2024-07-28T12:15:00Z</td><td>8899001122334455</td><td>JÚLIA FONSECA</td><td>2023-12-28T12:15:00Z</td><td>POUPANÇA</td><td>2023-09-10T16:45:00Z</td></tr><tr><td>PATRÍCIA</td><td>NASCIMENTO</td><td>32</td><td>180</td><td>GASOLINA</td><td>2024-01-26T13:30:00Z</td><td>6677889900112233</td><td>PATRÍCIA NASCIMENTO</td><td>2023-12-26T13:30:00Z</td><td>POUPANÇA</td><td>2023-08-28T13:25:00Z</td></tr><tr><td>RODRIGO</td><td>REZENDE</td><td>33</td><td>300</td><td>COMPRA ONLINE</td><td>2024-01-27T10:20:00Z</td><td>7788990011223344</td><td>RODRIGO REZENDE</td><td>2023-12-27T10:20:00Z</td><td>CORRENTE</td><td>2024-04-22T09:35:00Z</td></tr><tr><td>PATRÍCIA</td><td>NASCIMENTO</td><td>32</td><td>120</td><td>GASOLINA</td><td>2024-03-26T13:30:00Z</td><td>6677889900112233</td><td>PATRÍCIA NASCIMENTO</td><td>2023-12-26T13:30:00Z</td><td>POUPANÇA</td><td>2023-08-28T13:25:00Z</td></tr><tr><td>RODRIGO</td><td>REZENDE</td><td>33</td><td>400</td><td>COMPRA ONLINE</td><td>2024-03-27T10:20:00Z</td><td>7788990011223344</td><td>RODRIGO REZENDE</td><td>2023-12-27T10:20:00Z</td><td>CORRENTE</td><td>2024-04-22T09:35:00Z</td></tr><tr><td>PATRÍCIA</td><td>NASCIMENTO</td><td>32</td><td>280</td><td>GASOLINA</td><td>2024-05-26T13:30:00Z</td><td>6677889900112233</td><td>PATRÍCIA NASCIMENTO</td><td>2023-12-26T13:30:00Z</td><td>POUPANÇA</td><td>2023-08-28T13:25:00Z</td></tr><tr><td>RODRIGO</td><td>REZENDE</td><td>33</td><td>350</td><td>COMPRA ONLINE</td><td>2024-05-27T10:20:00Z</td><td>7788990011223344</td><td>RODRIGO REZENDE</td><td>2023-12-27T10:20:00Z</td><td>CORRENTE</td><td>2024-04-22T09:35:00Z</td></tr><tr><td>PATRÍCIA</td><td>NASCIMENTO</td><td>32</td><td>350</td><td>GASOLINA</td><td>2024-07-26T13:30:00Z</td><td>6677889900112233</td><td>PATRÍCIA NASCIMENTO</td><td>2023-12-26T13:30:00Z</td><td>POUPANÇA</td><td>2023-08-28T13:25:00Z</td></tr><tr><td>RODRIGO</td><td>REZENDE</td><td>33</td><td>420</td><td>COMPRA ONLINE</td><td>2024-07-27T10:20:00Z</td><td>7788990011223344</td><td>RODRIGO REZENDE</td><td>2023-12-27T10:20:00Z</td><td>CORRENTE</td><td>2024-04-22T09:35:00Z</td></tr><tr><td>DANIELE</td><td>CASTRO</td><td>31</td><td>90</td><td>ASSINATURA MENSAL</td><td>2024-02-14T10:10:00Z</td><td>4455667788990013</td><td>DANIELE CASTRO</td><td>2024-01-14T13:30:00Z</td><td>POUPANÇA</td><td>2023-08-05T13:40:00Z</td></tr><tr><td>DANIELE</td><td>CASTRO</td><td>31</td><td>150</td><td>ASSINATURA MENSAL</td><td>2024-04-14T10:10:00Z</td><td>4455667788990013</td><td>DANIELE CASTRO</td><td>2024-01-14T13:30:00Z</td><td>POUPANÇA</td><td>2023-08-05T13:40:00Z</td></tr><tr><td>DANIELE</td><td>CASTRO</td><td>31</td><td>140</td><td>ASSINATURA MENSAL</td><td>2024-06-14T10:10:00Z</td><td>4455667788990013</td><td>DANIELE CASTRO</td><td>2024-01-14T13:30:00Z</td><td>POUPANÇA</td><td>2023-08-05T13:40:00Z</td></tr><tr><td>DANIELE</td><td>CASTRO</td><td>31</td><td>140</td><td>ASSINATURA MENSAL</td><td>2024-08-14T10:10:00Z</td><td>4455667788990013</td><td>DANIELE CASTRO</td><td>2024-01-14T13:30:00Z</td><td>POUPANÇA</td><td>2023-08-05T13:40:00Z</td></tr><tr><td>CAMILA</td><td>BARBOSA</td><td>25</td><td>220</td><td>COMPRA DE ELETRÔNICOS</td><td>2024-01-12T11:50:00Z</td><td>5678567856781234</td><td>CAMILA BARBOSA</td><td>2023-12-12T11:50:00Z</td><td>POUPANÇA</td><td>2023-11-01T17:45:00Z</td></tr><tr><td>CAMILA</td><td>BARBOSA</td><td>25</td><td>250</td><td>COMPRA ELETRÔNICOS</td><td>2024-03-12T11:50:00Z</td><td>5678567856781234</td><td>CAMILA BARBOSA</td><td>2023-12-12T11:50:00Z</td><td>POUPANÇA</td><td>2023-11-01T17:45:00Z</td></tr><tr><td>CAMILA</td><td>BARBOSA</td><td>25</td><td>225</td><td>COMPRA ELETRÔNICOS</td><td>2024-05-12T11:50:00Z</td><td>5678567856781234</td><td>CAMILA BARBOSA</td><td>2023-12-12T11:50:00Z</td><td>POUPANÇA</td><td>2023-11-01T17:45:00Z</td></tr><tr><td>CAMILA</td><td>BARBOSA</td><td>25</td><td>400</td><td>COMPRA ELETRÔNICOS</td><td>2024-07-12T11:50:00Z</td><td>5678567856781234</td><td>CAMILA BARBOSA</td><td>2023-12-12T11:50:00Z</td><td>POUPANÇA</td><td>2023-11-01T17:45:00Z</td></tr><tr><td>THAÍS</td><td>MONTEIRO</td><td>27</td><td>400</td><td>COMPRA ELETRÔNICOS</td><td>2024-01-22T10:00:00Z</td><td>2233445566778899</td><td>THAÍS MONTEIRO</td><td>2023-12-22T10:00:00Z</td><td>POUPANÇA</td><td>2023-06-20T15:40:00Z</td></tr><tr><td>THAÍS</td><td>MONTEIRO</td><td>27</td><td>60</td><td>COMPRA ELETRÔNICOS</td><td>2024-03-22T10:00:00Z</td><td>2233445566778899</td><td>THAÍS MONTEIRO</td><td>2023-12-22T10:00:00Z</td><td>POUPANÇA</td><td>2023-06-20T15:40:00Z</td></tr><tr><td>THAÍS</td><td>MONTEIRO</td><td>27</td><td>260</td><td>COMPRA ELETRÔNICOS</td><td>2024-05-22T10:00:00Z</td><td>2233445566778899</td><td>THAÍS MONTEIRO</td><td>2023-12-22T10:00:00Z</td><td>POUPANÇA</td><td>2023-06-20T15:40:00Z</td></tr><tr><td>THAÍS</td><td>MONTEIRO</td><td>27</td><td>100</td><td>COMPRA ELETRÔNICOS</td><td>2024-07-22T10:00:00Z</td><td>2233445566778899</td><td>THAÍS MONTEIRO</td><td>2023-12-22T10:00:00Z</td><td>POUPANÇA</td><td>2023-06-20T15:40:00Z</td></tr><tr><td>ROGÉRIO</td><td>CAMPOS</td><td>35</td><td>400</td><td>COMPRA ONLINE</td><td>2024-02-17T14:00:00Z</td><td>7788990011223346</td><td>ROGÉRIO CAMPOS</td><td>2024-01-17T14:30:00Z</td><td>CORRENTE</td><td>2024-05-30T10:15:00Z</td></tr><tr><td>ROGÉRIO</td><td>CAMPOS</td><td>35</td><td>250</td><td>COMPRA ONLINE</td><td>2024-04-17T14:00:00Z</td><td>7788990011223346</td><td>ROGÉRIO CAMPOS</td><td>2024-01-17T14:30:00Z</td><td>CORRENTE</td><td>2024-05-30T10:15:00Z</td></tr><tr><td>ROGÉRIO</td><td>CAMPOS</td><td>35</td><td>320</td><td>COMPRA ONLINE</td><td>2024-06-17T14:00:00Z</td><td>7788990011223346</td><td>ROGÉRIO CAMPOS</td><td>2024-01-17T14:30:00Z</td><td>CORRENTE</td><td>2024-05-30T10:15:00Z</td></tr><tr><td>ROGÉRIO</td><td>CAMPOS</td><td>35</td><td>320</td><td>COMPRA ONLINE</td><td>2024-08-17T14:00:00Z</td><td>7788990011223346</td><td>ROGÉRIO CAMPOS</td><td>2024-01-17T14:30:00Z</td><td>CORRENTE</td><td>2024-05-30T10:15:00Z</td></tr><tr><td>JOÃO</td><td>SILVA</td><td>30</td><td>101</td><td>COMPRA SUPERMERCADO</td><td>2024-01-01T10:00:00Z</td><td>1111222233334444</td><td>JOÃO SILVA</td><td>2023-12-01T10:00:00Z</td><td>CORRENTE</td><td>2024-01-01T10:00:00Z</td></tr><tr><td>JOÃO</td><td>SILVA</td><td>30</td><td>151</td><td>COMPRA SUPERMERCADO</td><td>2024-03-01T10:00:00Z</td><td>1111222233334444</td><td>JOÃO SILVA</td><td>2023-12-01T10:00:00Z</td><td>CORRENTE</td><td>2024-01-01T10:00:00Z</td></tr><tr><td>JOÃO</td><td>SILVA</td><td>30</td><td>220</td><td>COMPRA SUPERMERCADO</td><td>2024-05-01T10:00:00Z</td><td>1111222233334444</td><td>JOÃO SILVA</td><td>2023-12-01T10:00:00Z</td><td>CORRENTE</td><td>2024-01-01T10:00:00Z</td></tr><tr><td>JOÃO</td><td>SILVA</td><td>30</td><td>200</td><td>COMPRA SUPERMERCADO</td><td>2024-07-01T10:00:00Z</td><td>1111222233334444</td><td>JOÃO SILVA</td><td>2023-12-01T10:00:00Z</td><td>CORRENTE</td><td>2024-01-01T10:00:00Z</td></tr><tr><td>VINÍCIUS</td><td>GOMES</td><td>36</td><td>140</td><td>COMPRA DE ROUPAS</td><td>2024-01-13T10:00:00Z</td><td>9012901290125678</td><td>VINÍCIUS GOMES</td><td>2023-12-13T10:00:00Z</td><td>CORRENTE</td><td>2024-07-04T11:30:00Z</td></tr><tr><td>VINÍCIUS</td><td>GOMES</td><td>36</td><td>100</td><td>COMPRA DE ROUPAS</td><td>2024-03-13T10:00:00Z</td><td>9012901290125678</td><td>VINÍCIUS GOMES</td><td>2023-12-13T10:00:00Z</td><td>CORRENTE</td><td>2024-07-04T11:30:00Z</td></tr><tr><td>VINÍCIUS</td><td>GOMES</td><td>36</td><td>120</td><td>COMPRA DE ROUPAS</td><td>2024-05-13T10:00:00Z</td><td>9012901290125678</td><td>VINÍCIUS GOMES</td><td>2023-12-13T10:00:00Z</td><td>CORRENTE</td><td>2024-07-04T11:30:00Z</td></tr><tr><td>VINÍCIUS</td><td>GOMES</td><td>36</td><td>110</td><td>COMPRA DE ROUPAS</td><td>2024-07-13T10:00:00Z</td><td>9012901290125678</td><td>VINÍCIUS GOMES</td><td>2023-12-13T10:00:00Z</td><td>CORRENTE</td><td>2024-07-04T11:30:00Z</td></tr><tr><td>JULIANA</td><td>ALMEIDA</td><td>32</td><td>300</td><td>COMPRA ONLINE</td><td>2024-01-06T13:15:00Z</td><td>2222333344445555</td><td>JULIANA ALMEIDA</td><td>2023-12-06T13:15:00Z</td><td>POUPANÇA</td><td>2023-06-25T08:10:00Z</td></tr><tr><td>LARISSA</td><td>MELO</td><td>24</td><td>80</td><td>GASOLINA</td><td>2024-01-16T13:20:00Z</td><td>2345234523451234</td><td>LARISSA MELO</td><td>2023-12-16T13:20:00Z</td><td>POUPANÇA</td><td>2023-12-25T10:10:00Z</td></tr><tr><td>JULIANA</td><td>ALMEIDA</td><td>32</td><td>181</td><td>COMPRA ONLINE</td><td>2024-03-06T13:15:00Z</td><td>2222333344445555</td><td>JULIANA ALMEIDA</td><td>2023-12-06T13:15:00Z</td><td>POUPANÇA</td><td>2023-06-25T08:10:00Z</td></tr><tr><td>LARISSA</td><td>MELO</td><td>24</td><td>76</td><td>GASOLINA</td><td>2024-03-16T13:20:00Z</td><td>2345234523451234</td><td>LARISSA MELO</td><td>2023-12-16T13:20:00Z</td><td>POUPANÇA</td><td>2023-12-25T10:10:00Z</td></tr><tr><td>JULIANA</td><td>ALMEIDA</td><td>32</td><td>301</td><td>COMPRA ONLINE</td><td>2024-05-06T13:15:00Z</td><td>2222333344445555</td><td>JULIANA ALMEIDA</td><td>2023-12-06T13:15:00Z</td><td>POUPANÇA</td><td>2023-06-25T08:10:00Z</td></tr><tr><td>LARISSA</td><td>MELO</td><td>24</td><td>80</td><td>GASOLINA</td><td>2024-05-16T13:20:00Z</td><td>2345234523451234</td><td>LARISSA MELO</td><td>2023-12-16T13:20:00Z</td><td>POUPANÇA</td><td>2023-12-25T10:10:00Z</td></tr><tr><td>JULIANA</td><td>ALMEIDA</td><td>32</td><td>350</td><td>COMPRA ONLINE</td><td>2024-07-06T13:15:00Z</td><td>2222333344445555</td><td>JULIANA ALMEIDA</td><td>2023-12-06T13:15:00Z</td><td>POUPANÇA</td><td>2023-06-25T08:10:00Z</td></tr><tr><td>LARISSA</td><td>MELO</td><td>24</td><td>120</td><td>GASOLINA</td><td>2024-07-16T13:20:00Z</td><td>2345234523451234</td><td>LARISSA MELO</td><td>2023-12-16T13:20:00Z</td><td>POUPANÇA</td><td>2023-12-25T10:10:00Z</td></tr><tr><td>PEDRO</td><td>SANTOS</td><td>35</td><td>75</td><td>PAGAMENTO DE CONTA</td><td>2024-01-03T09:45:00Z</td><td>9999000011112222</td><td>PEDRO SANTOS</td><td>2023-12-03T09:45:00Z</td><td>CORRENTE</td><td>2024-02-10T09:45:00Z</td></tr><tr><td>PEDRO</td><td>SANTOS</td><td>35</td><td>210</td><td>COMPRA DE ROUPAS</td><td>2024-03-03T09:45:00Z</td><td>9999000011112222</td><td>PEDRO SANTOS</td><td>2023-12-03T09:45:00Z</td><td>CORRENTE</td><td>2024-02-10T09:45:00Z</td></tr><tr><td>PEDRO</td><td>SANTOS</td><td>35</td><td>300</td><td>COMPRA DE ROUPAS</td><td>2024-05-03T09:45:00Z</td><td>9999000011112222</td><td>PEDRO SANTOS</td><td>2023-12-03T09:45:00Z</td><td>CORRENTE</td><td>2024-02-10T09:45:00Z</td></tr><tr><td>PEDRO</td><td>SANTOS</td><td>35</td><td>180</td><td>COMPRA DE ROUPAS</td><td>2024-07-03T09:45:00Z</td><td>9999000011112222</td><td>PEDRO SANTOS</td><td>2023-12-03T09:45:00Z</td><td>CORRENTE</td><td>2024-02-10T09:45:00Z</td></tr><tr><td>MARIANA</td><td>BATISTA</td><td>30</td><td>250</td><td>TAXA BANCÁRIA</td><td>2024-01-20T11:30:00Z</td><td>8901890189011234</td><td>MARIANA BATISTA</td><td>2023-12-20T11:30:00Z</td><td>POUPANÇA</td><td>2023-05-18T14:15:00Z</td></tr><tr><td>ISABELA</td><td>SIQUEIRA</td><td>34</td><td>80</td><td>TAXA BANCÁRIA</td><td>2024-02-10T10:00:00Z</td><td>0011223344556678</td><td>ISABELA SIQUEIRA</td><td>2024-01-10T13:00:00Z</td><td>POUPANÇA</td><td>2023-06-15T14:35:00Z</td></tr><tr><td>MARIANA</td><td>BATISTA</td><td>30</td><td>131</td><td>TAXA BANCÁRIA</td><td>2024-03-20T11:30:00Z</td><td>8901890189011234</td><td>MARIANA BATISTA</td><td>2023-12-20T11:30:00Z</td><td>POUPANÇA</td><td>2023-05-18T14:15:00Z</td></tr><tr><td>ISABELA</td><td>SIQUEIRA</td><td>34</td><td>400</td><td>TAXA BANCÁRIA</td><td>2024-04-10T10:00:00Z</td><td>0011223344556678</td><td>ISABELA SIQUEIRA</td><td>2024-01-10T13:00:00Z</td><td>POUPANÇA</td><td>2023-06-15T14:35:00Z</td></tr><tr><td>MARIANA</td><td>BATISTA</td><td>30</td><td>250</td><td>TAXA BANCÁRIA</td><td>2024-05-20T11:30:00Z</td><td>8901890189011234</td><td>MARIANA BATISTA</td><td>2023-12-20T11:30:00Z</td><td>POUPANÇA</td><td>2023-05-18T14:15:00Z</td></tr><tr><td>ISABELA</td><td>SIQUEIRA</td><td>34</td><td>300</td><td>TAXA BANCÁRIA</td><td>2024-06-10T10:00:00Z</td><td>0011223344556678</td><td>ISABELA SIQUEIRA</td><td>2024-01-10T13:00:00Z</td><td>POUPANÇA</td><td>2023-06-15T14:35:00Z</td></tr><tr><td>MARIANA</td><td>BATISTA</td><td>30</td><td>300</td><td>TAXA BANCÁRIA</td><td>2024-07-20T11:30:00Z</td><td>8901890189011234</td><td>MARIANA BATISTA</td><td>2023-12-20T11:30:00Z</td><td>POUPANÇA</td><td>2023-05-18T14:15:00Z</td></tr><tr><td>ISABELA</td><td>SIQUEIRA</td><td>34</td><td>300</td><td>TAXA BANCÁRIA</td><td>2024-08-10T10:00:00Z</td><td>0011223344556678</td><td>ISABELA SIQUEIRA</td><td>2024-01-10T13:00:00Z</td><td>POUPANÇA</td><td>2023-06-15T14:35:00Z</td></tr><tr><td>MANUELA</td><td>AGUIAR</td><td>28</td><td>500</td><td>JANTAR EM RESTAURANTE</td><td>2024-02-18T11:10:00Z</td><td>8899001122334457</td><td>MANUELA AGUIAR</td><td>2024-01-18T15:00:00Z</td><td>POUPANÇA</td><td>2023-10-05T12:50:00Z</td></tr><tr><td>MANUELA</td><td>AGUIAR</td><td>28</td><td>350</td><td>JANTAR EM RESTAURANTE</td><td>2024-04-18T11:10:00Z</td><td>8899001122334457</td><td>MANUELA AGUIAR</td><td>2024-01-18T15:00:00Z</td><td>POUPANÇA</td><td>2023-10-05T12:50:00Z</td></tr><tr><td>MANUELA</td><td>AGUIAR</td><td>28</td><td>350</td><td>JANTAR EM RESTAURANTE</td><td>2024-06-18T11:10:00Z</td><td>8899001122334457</td><td>MANUELA AGUIAR</td><td>2024-01-18T15:00:00Z</td><td>POUPANÇA</td><td>2023-10-05T12:50:00Z</td></tr><tr><td>MANUELA</td><td>AGUIAR</td><td>28</td><td>350</td><td>JANTAR EM RESTAURANTE</td><td>2024-08-18T11:10:00Z</td><td>8899001122334457</td><td>MANUELA AGUIAR</td><td>2024-01-18T15:00:00Z</td><td>POUPANÇA</td><td>2023-10-05T12:50:00Z</td></tr><tr><td>CARLOS</td><td>LIMA</td><td>40</td><td>90</td><td>ASSINATURA MENSAL</td><td>2024-01-05T16:00:00Z</td><td>7777888899990000</td><td>CARLOS LIMA</td><td>2023-12-05T16:00:00Z</td><td>CORRENTE</td><td>2024-03-05T16:00:00Z</td></tr><tr><td>CARLOS</td><td>LIMA</td><td>40</td><td>130</td><td>PAGAMENTO DE CONTA</td><td>2024-03-05T16:00:00Z</td><td>7777888899990000</td><td>CARLOS LIMA</td><td>2023-12-05T16:00:00Z</td><td>CORRENTE</td><td>2024-03-05T16:00:00Z</td></tr><tr><td>CARLOS</td><td>LIMA</td><td>40</td><td>250</td><td>PAGAMENTO DE CONTA</td><td>2024-05-05T16:00:00Z</td><td>7777888899990000</td><td>CARLOS LIMA</td><td>2023-12-05T16:00:00Z</td><td>CORRENTE</td><td>2024-03-05T16:00:00Z</td></tr><tr><td>CARLOS</td><td>LIMA</td><td>40</td><td>150</td><td>PAGAMENTO DE CONTA</td><td>2024-07-05T16:00:00Z</td><td>7777888899990000</td><td>CARLOS LIMA</td><td>2023-12-05T16:00:00Z</td><td>CORRENTE</td><td>2024-03-05T16:00:00Z</td></tr><tr><td>RENATO</td><td>NOGUEIRA</td><td>41</td><td>150</td><td>COMPRA NO SHOPPING</td><td>2024-01-19T12:40:00Z</td><td>4567456745675678</td><td>RENATO NOGUEIRA</td><td>2023-12-19T12:40:00Z</td><td>CORRENTE</td><td>2024-10-10T09:55:00Z</td></tr><tr><td>RENATO</td><td>NOGUEIRA</td><td>41</td><td>300</td><td>COMPRA NO SHOPPING</td><td>2024-03-19T12:40:00Z</td><td>4567456745675678</td><td>RENATO NOGUEIRA</td><td>2023-12-19T12:40:00Z</td><td>CORRENTE</td><td>2024-10-10T09:55:00Z</td></tr><tr><td>RENATO</td><td>NOGUEIRA</td><td>41</td><td>200</td><td>COMPRA NO SHOPPING</td><td>2024-05-19T12:40:00Z</td><td>4567456745675678</td><td>RENATO NOGUEIRA</td><td>2023-12-19T12:40:00Z</td><td>CORRENTE</td><td>2024-10-10T09:55:00Z</td></tr><tr><td>RENATO</td><td>NOGUEIRA</td><td>41</td><td>250</td><td>COMPRA NO SHOPPING</td><td>2024-07-19T12:40:00Z</td><td>4567456745675678</td><td>RENATO NOGUEIRA</td><td>2023-12-19T12:40:00Z</td><td>CORRENTE</td><td>2024-10-10T09:55:00Z</td></tr><tr><td>MAURÍCIO</td><td>MACHADO</td><td>42</td><td>130</td><td>COMPRA SUPERMERCADO</td><td>2024-02-11T16:45:00Z</td><td>1122334455667780</td><td>MAURÍCIO MACHADO</td><td>2024-01-11T12:00:00Z</td><td>CORRENTE</td><td>2024-02-20T08:30:00Z</td></tr><tr><td>MAURÍCIO</td><td>MACHADO</td><td>42</td><td>150</td><td>COMPRA SUPERMERCADO</td><td>2024-04-11T16:45:00Z</td><td>1122334455667780</td><td>MAURÍCIO MACHADO</td><td>2024-01-11T12:00:00Z</td><td>CORRENTE</td><td>2024-02-20T08:30:00Z</td></tr><tr><td>MAURÍCIO</td><td>MACHADO</td><td>42</td><td>400</td><td>COMPRA SUPERMERCADO</td><td>2024-06-11T16:45:00Z</td><td>1122334455667780</td><td>MAURÍCIO MACHADO</td><td>2024-01-11T12:00:00Z</td><td>CORRENTE</td><td>2024-02-20T08:30:00Z</td></tr><tr><td>MAURÍCIO</td><td>MACHADO</td><td>42</td><td>400</td><td>COMPRA SUPERMERCADO</td><td>2024-08-11T16:45:00Z</td><td>1122334455667780</td><td>MAURÍCIO MACHADO</td><td>2024-01-11T12:00:00Z</td><td>CORRENTE</td><td>2024-02-20T08:30:00Z</td></tr><tr><td>FELIPE</td><td>ARAÚJO</td><td>42</td><td>60</td><td>PAGAMENTO DE CONTA</td><td>2024-01-15T14:40:00Z</td><td>7890789078905678</td><td>FELIPE ARAÚJO</td><td>2023-12-15T14:40:00Z</td><td>CORRENTE</td><td>2024-08-21T08:40:00Z</td></tr><tr><td>BRUNO</td><td>TAVARES</td><td>33</td><td>60</td><td>COMPRA DE ROUPAS</td><td>2024-02-13T14:30:00Z</td><td>3344556677889902</td><td>BRUNO TAVARES</td><td>2024-01-13T10:10:00Z</td><td>CORRENTE</td><td>2024-03-25T11:05:00Z</td></tr><tr><td>FELIPE</td><td>ARAÚJO</td><td>42</td><td>151</td><td>PAGAMENTO DE CONTA</td><td>2024-03-15T14:40:00Z</td><td>7890789078905678</td><td>FELIPE ARAÚJO</td><td>2023-12-15T14:40:00Z</td><td>CORRENTE</td><td>2024-08-21T08:40:00Z</td></tr><tr><td>BRUNO</td><td>TAVARES</td><td>33</td><td>60</td><td>COMPRA DE ROUPAS</td><td>2024-04-13T14:30:00Z</td><td>3344556677889902</td><td>BRUNO TAVARES</td><td>2024-01-13T10:10:00Z</td><td>CORRENTE</td><td>2024-03-25T11:05:00Z</td></tr><tr><td>FELIPE</td><td>ARAÚJO</td><td>42</td><td>250</td><td>PAGAMENTO DE CONTA</td><td>2024-05-15T14:40:00Z</td><td>7890789078905678</td><td>FELIPE ARAÚJO</td><td>2023-12-15T14:40:00Z</td><td>CORRENTE</td><td>2024-08-21T08:40:00Z</td></tr><tr><td>BRUNO</td><td>TAVARES</td><td>33</td><td>180</td><td>COMPRA DE ROUPAS</td><td>2024-06-13T14:30:00Z</td><td>3344556677889902</td><td>BRUNO TAVARES</td><td>2024-01-13T10:10:00Z</td><td>CORRENTE</td><td>2024-03-25T11:05:00Z</td></tr><tr><td>FELIPE</td><td>ARAÚJO</td><td>42</td><td>320</td><td>PAGAMENTO DE CONTA</td><td>2024-07-15T14:40:00Z</td><td>7890789078905678</td><td>FELIPE ARAÚJO</td><td>2023-12-15T14:40:00Z</td><td>CORRENTE</td><td>2024-08-21T08:40:00Z</td></tr><tr><td>BRUNO</td><td>TAVARES</td><td>33</td><td>180</td><td>COMPRA DE ROUPAS</td><td>2024-08-13T14:30:00Z</td><td>3344556677889902</td><td>BRUNO TAVARES</td><td>2024-01-13T10:10:00Z</td><td>CORRENTE</td><td>2024-03-25T11:05:00Z</td></tr><tr><td>MARCELO</td><td>MOURA</td><td>41</td><td>250</td><td>COMPRA ONLINE</td><td>2024-02-07T13:00:00Z</td><td>7788990011223345</td><td>MARCELO MOURA</td><td>2024-01-07T15:30:00Z</td><td>CORRENTE</td><td>2024-09-05T09:15:00Z</td></tr><tr><td>MARCELO</td><td>MOURA</td><td>41</td><td>250</td><td>COMPRA ONLINE</td><td>2024-04-07T13:00:00Z</td><td>7788990011223345</td><td>MARCELO MOURA</td><td>2024-01-07T15:30:00Z</td><td>CORRENTE</td><td>2024-09-05T09:15:00Z</td></tr><tr><td>MARCELO</td><td>MOURA</td><td>41</td><td>350</td><td>COMPRA ONLINE</td><td>2024-06-07T13:00:00Z</td><td>7788990011223345</td><td>MARCELO MOURA</td><td>2024-01-07T15:30:00Z</td><td>CORRENTE</td><td>2024-09-05T09:15:00Z</td></tr><tr><td>MARCELO</td><td>MOURA</td><td>41</td><td>250</td><td>COMPRA ONLINE</td><td>2024-08-07T13:00:00Z</td><td>7788990011223345</td><td>MARCELO MOURA</td><td>2024-01-07T15:30:00Z</td><td>CORRENTE</td><td>2024-09-05T09:15:00Z</td></tr><tr><td>PAULO</td><td>FERREIRA</td><td>45</td><td>200</td><td>JANTAR EM RESTAURANTE</td><td>2024-01-09T12:25:00Z</td><td>8888999900001111</td><td>PAULO FERREIRA</td><td>2023-12-09T12:25:00Z</td><td>CORRENTE</td><td>2024-05-18T12:25:00Z</td></tr><tr><td>TIAGO</td><td>FARIAS</td><td>37</td><td>300</td><td>COMPRA ONLINE</td><td>2024-01-17T10:10:00Z</td><td>6789678967895678</td><td>TIAGO FARIAS</td><td>2023-12-17T10:10:00Z</td><td>CORRENTE</td><td>2024-09-15T13:00:00Z</td></tr><tr><td>PAULO</td><td>FERREIRA</td><td>45</td><td>121</td><td>COMPRA NO SHOPPING</td><td>2024-03-09T12:25:00Z</td><td>8888999900001111</td><td>PAULO FERREIRA</td><td>2023-12-09T12:25:00Z</td><td>CORRENTE</td><td>2024-05-18T12:25:00Z</td></tr><tr><td>TIAGO</td><td>FARIAS</td><td>37</td><td>200</td><td>COMPRA ONLINE</td><td>2024-03-17T10:10:00Z</td><td>6789678967895678</td><td>TIAGO FARIAS</td><td>2023-12-17T10:10:00Z</td><td>CORRENTE</td><td>2024-09-15T13:00:00Z</td></tr><tr><td>PAULO</td><td>FERREIRA</td><td>45</td><td>130</td><td>COMPRA NO SHOPPING</td><td>2024-05-09T12:25:00Z</td><td>8888999900001111</td><td>PAULO FERREIRA</td><td>2023-12-09T12:25:00Z</td><td>CORRENTE</td><td>2024-05-18T12:25:00Z</td></tr><tr><td>TIAGO</td><td>FARIAS</td><td>37</td><td>320</td><td>COMPRA ONLINE</td><td>2024-05-17T10:10:00Z</td><td>6789678967895678</td><td>TIAGO FARIAS</td><td>2023-12-17T10:10:00Z</td><td>CORRENTE</td><td>2024-09-15T13:00:00Z</td></tr><tr><td>PAULO</td><td>FERREIRA</td><td>45</td><td>140</td><td>COMPRA NO SHOPPING</td><td>2024-07-09T12:25:00Z</td><td>8888999900001111</td><td>PAULO FERREIRA</td><td>2023-12-09T12:25:00Z</td><td>CORRENTE</td><td>2024-05-18T12:25:00Z</td></tr><tr><td>TIAGO</td><td>FARIAS</td><td>37</td><td>150</td><td>COMPRA ONLINE</td><td>2024-07-17T10:10:00Z</td><td>6789678967895678</td><td>TIAGO FARIAS</td><td>2023-12-17T10:10:00Z</td><td>CORRENTE</td><td>2024-09-15T13:00:00Z</td></tr><tr><td>SÉRGIO</td><td>MORAIS</td><td>45</td><td>200</td><td>PAGAMENTO DE CONTA</td><td>2024-02-05T12:30:00Z</td><td>5566778899001123</td><td>SÉRGIO MORAIS</td><td>2024-01-05T10:10:00Z</td><td>CORRENTE</td><td>2024-08-15T13:50:00Z</td></tr><tr><td>SÉRGIO</td><td>MORAIS</td><td>45</td><td>220</td><td>PAGAMENTO DE CONTA</td><td>2024-04-05T12:30:00Z</td><td>5566778899001123</td><td>SÉRGIO MORAIS</td><td>2024-01-05T10:10:00Z</td><td>CORRENTE</td><td>2024-08-15T13:50:00Z</td></tr><tr><td>SÉRGIO</td><td>MORAIS</td><td>45</td><td>230</td><td>PAGAMENTO DE CONTA</td><td>2024-06-05T12:30:00Z</td><td>5566778899001123</td><td>SÉRGIO MORAIS</td><td>2024-01-05T10:10:00Z</td><td>CORRENTE</td><td>2024-08-15T13:50:00Z</td></tr><tr><td>SÉRGIO</td><td>MORAIS</td><td>45</td><td>220</td><td>PAGAMENTO DE CONTA</td><td>2024-08-05T12:30:00Z</td><td>5566778899001123</td><td>SÉRGIO MORAIS</td><td>2024-01-05T10:10:00Z</td><td>CORRENTE</td><td>2024-08-15T13:50:00Z</td></tr><tr><td>ANA</td><td>SOUZA</td><td>26</td><td>121</td><td>COMPRA DE ROUPAS</td><td>2024-01-04T11:20:00Z</td><td>3333444455556666</td><td>ANA SOUZA</td><td>2023-12-04T11:20:00Z</td><td>POUPANÇA</td><td>2023-08-20T11:20:00Z</td></tr><tr><td>ANA</td><td>SOUZA</td><td>26</td><td>75</td><td>ASSINATURA MENSAL</td><td>2024-03-04T11:20:00Z</td><td>3333444455556666</td><td>ANA SOUZA</td><td>2023-12-04T11:20:00Z</td><td>POUPANÇA</td><td>2023-08-20T11:20:00Z</td></tr><tr><td>ANA</td><td>SOUZA</td><td>26</td><td>110</td><td>ASSINATURA MENSAL</td><td>2024-05-04T11:20:00Z</td><td>3333444455556666</td><td>ANA SOUZA</td><td>2023-12-04T11:20:00Z</td><td>POUPANÇA</td><td>2023-08-20T11:20:00Z</td></tr><tr><td>ANA</td><td>SOUZA</td><td>26</td><td>300</td><td>ASSINATURA MENSAL</td><td>2024-07-04T11:20:00Z</td><td>3333444455556666</td><td>ANA SOUZA</td><td>2023-12-04T11:20:00Z</td><td>POUPANÇA</td><td>2023-08-20T11:20:00Z</td></tr><tr><td>FERNANDA</td><td>COSTA</td><td>27</td><td>150</td><td>COMPRA NO SHOPPING</td><td>2024-01-08T15:35:00Z</td><td>0000111122223333</td><td>FERNANDA COSTA</td><td>2023-12-08T15:35:00Z</td><td>POUPANÇA</td><td>2023-09-30T10:50:00Z</td></tr><tr><td>FERNANDA</td><td>COSTA</td><td>27</td><td>200</td><td>JANTAR EM RESTAURANTE</td><td>2024-03-08T15:35:00Z</td><td>0000111122223333</td><td>FERNANDA COSTA</td><td>2023-12-08T15:35:00Z</td><td>POUPANÇA</td><td>2023-09-30T10:50:00Z</td></tr><tr><td>FERNANDA</td><td>COSTA</td><td>27</td><td>200</td><td>JANTAR EM RESTAURANTE</td><td>2024-05-08T15:35:00Z</td><td>0000111122223333</td><td>FERNANDA COSTA</td><td>2023-12-08T15:35:00Z</td><td>POUPANÇA</td><td>2023-09-30T10:50:00Z</td></tr><tr><td>FERNANDA</td><td>COSTA</td><td>27</td><td>230</td><td>JANTAR EM RESTAURANTE</td><td>2024-07-08T15:35:00Z</td><td>0000111122223333</td><td>FERNANDA COSTA</td><td>2023-12-08T15:35:00Z</td><td>POUPANÇA</td><td>2023-09-30T10:50:00Z</td></tr><tr><td>ANDRÉ</td><td>ROCHA</td><td>35</td><td>75</td><td>COMPRA DE ROUPAS</td><td>2024-01-23T13:30:00Z</td><td>3344556677889900</td><td>ANDRÉ ROCHA</td><td>2023-12-23T13:30:00Z</td><td>CORRENTE</td><td>2024-02-25T08:20:00Z</td></tr><tr><td>RAFAEL</td><td>SILVEIRA</td><td>38</td><td>150</td><td>COMPRA NO SHOPPING</td><td>2024-02-09T14:30:00Z</td><td>9900112233445567</td><td>RAFAEL SILVEIRA</td><td>2024-01-09T16:20:00Z</td><td>CORRENTE</td><td>2024-01-18T10:20:00Z</td></tr><tr><td>ANDRÉ</td><td>ROCHA</td><td>35</td><td>180</td><td>COMPRA DE ROUPAS</td><td>2024-03-23T13:30:00Z</td><td>3344556677889900</td><td>ANDRÉ ROCHA</td><td>2023-12-23T13:30:00Z</td><td>CORRENTE</td><td>2024-02-25T08:20:00Z</td></tr><tr><td>RAFAEL</td><td>SILVEIRA</td><td>38</td><td>300</td><td>COMPRA NO SHOPPING</td><td>2024-04-09T14:30:00Z</td><td>9900112233445567</td><td>RAFAEL SILVEIRA</td><td>2024-01-09T16:20:00Z</td><td>CORRENTE</td><td>2024-01-18T10:20:00Z</td></tr><tr><td>ANDRÉ</td><td>ROCHA</td><td>35</td><td>150</td><td>COMPRA DE ROUPAS</td><td>2024-05-23T13:30:00Z</td><td>3344556677889900</td><td>ANDRÉ ROCHA</td><td>2023-12-23T13:30:00Z</td><td>CORRENTE</td><td>2024-02-25T08:20:00Z</td></tr><tr><td>RAFAEL</td><td>SILVEIRA</td><td>38</td><td>250</td><td>COMPRA NO SHOPPING</td><td>2024-06-09T14:30:00Z</td><td>9900112233445567</td><td>RAFAEL SILVEIRA</td><td>2024-01-09T16:20:00Z</td><td>CORRENTE</td><td>2024-01-18T10:20:00Z</td></tr><tr><td>ANDRÉ</td><td>ROCHA</td><td>35</td><td>180</td><td>COMPRA DE ROUPAS</td><td>2024-07-23T13:30:00Z</td><td>3344556677889900</td><td>ANDRÉ ROCHA</td><td>2023-12-23T13:30:00Z</td><td>CORRENTE</td><td>2024-02-25T08:20:00Z</td></tr><tr><td>RAFAEL</td><td>SILVEIRA</td><td>38</td><td>270</td><td>COMPRA NO SHOPPING</td><td>2024-08-09T14:30:00Z</td><td>9900112233445567</td><td>RAFAEL SILVEIRA</td><td>2024-01-09T16:20:00Z</td><td>CORRENTE</td><td>2024-01-18T10:20:00Z</td></tr><tr><td>CLÁUDIO</td><td>GUIMARÃES</td><td>39</td><td>600</td><td>COMPRA NO SHOPPING</td><td>2024-02-19T15:30:00Z</td><td>9900112233445568</td><td>CLÁUDIO GUIMARÃES</td><td>2024-01-19T12:00:00Z</td><td>CORRENTE</td><td>2024-06-10T14:45:00Z</td></tr><tr><td>CLÁUDIO</td><td>GUIMARÃES</td><td>39</td><td>400</td><td>COMPRA NO SHOPPING</td><td>2024-04-19T15:30:00Z</td><td>9900112233445568</td><td>CLÁUDIO GUIMARÃES</td><td>2024-01-19T12:00:00Z</td><td>CORRENTE</td><td>2024-06-10T14:45:00Z</td></tr><tr><td>CLÁUDIO</td><td>GUIMARÃES</td><td>39</td><td>400</td><td>COMPRA NO SHOPPING</td><td>2024-06-19T15:30:00Z</td><td>9900112233445568</td><td>CLÁUDIO GUIMARÃES</td><td>2024-01-19T12:00:00Z</td><td>CORRENTE</td><td>2024-06-10T14:45:00Z</td></tr><tr><td>CLÁUDIO</td><td>GUIMARÃES</td><td>39</td><td>400</td><td>COMPRA NO SHOPPING</td><td>2024-08-19T15:30:00Z</td><td>9900112233445568</td><td>CLÁUDIO GUIMARÃES</td><td>2024-01-19T12:00:00Z</td><td>CORRENTE</td><td>2024-06-10T14:45:00Z</td></tr><tr><td>RICARDO</td><td>PEREIRA</td><td>38</td><td>46</td><td>GASOLINA</td><td>2024-01-07T10:50:00Z</td><td>6666777788889999</td><td>RICARDO PEREIRA</td><td>2023-12-07T10:50:00Z</td><td>CORRENTE</td><td>2024-04-12T13:15:00Z</td></tr><tr><td>RICARDO</td><td>PEREIRA</td><td>38</td><td>60</td><td>GASOLINA</td><td>2024-03-07T10:50:00Z</td><td>6666777788889999</td><td>RICARDO PEREIRA</td><td>2023-12-07T10:50:00Z</td><td>CORRENTE</td><td>2024-04-12T13:15:00Z</td></tr><tr><td>RICARDO</td><td>PEREIRA</td><td>38</td><td>90</td><td>GASOLINA</td><td>2024-05-07T10:50:00Z</td><td>6666777788889999</td><td>RICARDO PEREIRA</td><td>2023-12-07T10:50:00Z</td><td>CORRENTE</td><td>2024-04-12T13:15:00Z</td></tr><tr><td>RICARDO</td><td>PEREIRA</td><td>38</td><td>90</td><td>GASOLINA</td><td>2024-07-07T10:50:00Z</td><td>6666777788889999</td><td>RICARDO PEREIRA</td><td>2023-12-07T10:50:00Z</td><td>CORRENTE</td><td>2024-04-12T13:15:00Z</td></tr><tr><td>AUGUSTO</td><td>ANDRADE</td><td>37</td><td>350</td><td>COMPRA SUPERMERCADO</td><td>2024-02-21T13:00:00Z</td><td>1122334455667781</td><td>AUGUSTO ANDRADE</td><td>2024-01-21T10:30:00Z</td><td>CORRENTE</td><td>2024-10-17T18:45:00Z</td></tr><tr><td>AUGUSTO</td><td>ANDRADE</td><td>37</td><td>350</td><td>COMPRA SUPERMERCADO</td><td>2024-04-21T13:00:00Z</td><td>1122334455667781</td><td>AUGUSTO ANDRADE</td><td>2024-01-21T10:30:00Z</td><td>CORRENTE</td><td>2024-10-17T18:45:00Z</td></tr><tr><td>AUGUSTO</td><td>ANDRADE</td><td>37</td><td>300</td><td>COMPRA SUPERMERCADO</td><td>2024-06-21T13:00:00Z</td><td>1122334455667781</td><td>AUGUSTO ANDRADE</td><td>2024-01-21T10:30:00Z</td><td>CORRENTE</td><td>2024-10-17T18:45:00Z</td></tr><tr><td>AUGUSTO</td><td>ANDRADE</td><td>37</td><td>350</td><td>COMPRA SUPERMERCADO</td><td>2024-08-21T13:00:00Z</td><td>1122334455667781</td><td>AUGUSTO ANDRADE</td><td>2024-01-21T10:30:00Z</td><td>CORRENTE</td><td>2024-10-17T18:45:00Z</td></tr><tr><td>ALINE</td><td>RIBEIRO</td><td>29</td><td>50</td><td>TAXA BANCÁRIA</td><td>2024-01-10T08:10:00Z</td><td>4444555566667777</td><td>ALINE RIBEIRO</td><td>2023-12-10T08:10:00Z</td><td>POUPANÇA</td><td>2023-07-10T15:35:00Z</td></tr><tr><td>ALINE</td><td>RIBEIRO</td><td>29</td><td>40</td><td>TAXA BANCÁRIA</td><td>2024-03-10T08:10:00Z</td><td>4444555566667777</td><td>ALINE RIBEIRO</td><td>2023-12-10T08:10:00Z</td><td>POUPANÇA</td><td>2023-07-10T15:35:00Z</td></tr><tr><td>ALINE</td><td>RIBEIRO</td><td>29</td><td>50</td><td>TAXA BANCÁRIA</td><td>2024-05-10T08:10:00Z</td><td>4444555566667777</td><td>ALINE RIBEIRO</td><td>2023-12-10T08:10:00Z</td><td>POUPANÇA</td><td>2023-07-10T15:35:00Z</td></tr><tr><td>ALINE</td><td>RIBEIRO</td><td>29</td><td>50</td><td>TAXA BANCÁRIA</td><td>2024-07-10T08:10:00Z</td><td>4444555566667777</td><td>ALINE RIBEIRO</td><td>2023-12-10T08:10:00Z</td><td>POUPANÇA</td><td>2023-07-10T15:35:00Z</td></tr><tr><td>SOFIA</td><td>BORGES</td><td>24</td><td>200</td><td>TAXA BANCÁRIA</td><td>2024-02-20T09:30:00Z</td><td>0011223344556679</td><td>SOFIA BORGES</td><td>2024-01-20T13:00:00Z</td><td>POUPANÇA</td><td>2023-11-15T09:55:00Z</td></tr><tr><td>SOFIA</td><td>BORGES</td><td>24</td><td>200</td><td>TAXA BANCÁRIA</td><td>2024-04-20T09:30:00Z</td><td>0011223344556679</td><td>SOFIA BORGES</td><td>2024-01-20T13:00:00Z</td><td>POUPANÇA</td><td>2023-11-15T09:55:00Z</td></tr><tr><td>SOFIA</td><td>BORGES</td><td>24</td><td>250</td><td>TAXA BANCÁRIA</td><td>2024-06-20T09:30:00Z</td><td>0011223344556679</td><td>SOFIA BORGES</td><td>2024-01-20T13:00:00Z</td><td>POUPANÇA</td><td>2023-11-15T09:55:00Z</td></tr><tr><td>SOFIA</td><td>BORGES</td><td>24</td><td>300</td><td>TAXA BANCÁRIA</td><td>2024-08-20T09:30:00Z</td><td>0011223344556679</td><td>SOFIA BORGES</td><td>2024-01-20T13:00:00Z</td><td>POUPANÇA</td><td>2023-11-15T09:55:00Z</td></tr><tr><td>JOSÉ</td><td>MOREIRA</td><td>30</td><td>100</td><td>PAGAMENTO DE CONTA</td><td>2024-02-15T13:20:00Z</td><td>5566778899001124</td><td>JOSÉ MOREIRA</td><td>2024-01-15T11:20:00Z</td><td>CORRENTE</td><td>2024-04-15T09:50:00Z</td></tr><tr><td>JOSÉ</td><td>MOREIRA</td><td>30</td><td>220</td><td>PAGAMENTO DE CONTA</td><td>2024-04-15T13:20:00Z</td><td>5566778899001124</td><td>JOSÉ MOREIRA</td><td>2024-01-15T11:20:00Z</td><td>CORRENTE</td><td>2024-04-15T09:50:00Z</td></tr><tr><td>JOSÉ</td><td>MOREIRA</td><td>30</td><td>230</td><td>PAGAMENTO DE CONTA</td><td>2024-06-15T13:20:00Z</td><td>5566778899001124</td><td>JOSÉ MOREIRA</td><td>2024-01-15T11:20:00Z</td><td>CORRENTE</td><td>2024-04-15T09:50:00Z</td></tr><tr><td>JOSÉ</td><td>MOREIRA</td><td>30</td><td>220</td><td>PAGAMENTO DE CONTA</td><td>2024-08-15T13:20:00Z</td><td>5566778899001124</td><td>JOSÉ MOREIRA</td><td>2024-01-15T11:20:00Z</td><td>CORRENTE</td><td>2024-04-15T09:50:00Z</td></tr><tr><td>LUANA</td><td>XAVIER</td><td>27</td><td>100</td><td>JANTAR EM RESTAURANTE</td><td>2024-02-08T15:00:00Z</td><td>8899001122334456</td><td>LUANA XAVIER</td><td>2024-01-08T14:40:00Z</td><td>POUPANÇA</td><td>2023-05-22T17:05:00Z</td></tr><tr><td>LUANA</td><td>XAVIER</td><td>27</td><td>180</td><td>JANTAR EM RESTAURANTE</td><td>2024-04-08T15:00:00Z</td><td>8899001122334456</td><td>LUANA XAVIER</td><td>2024-01-08T14:40:00Z</td><td>POUPANÇA</td><td>2023-05-22T17:05:00Z</td></tr><tr><td>LUANA</td><td>XAVIER</td><td>27</td><td>220</td><td>JANTAR EM RESTAURANTE</td><td>2024-06-08T15:00:00Z</td><td>8899001122334456</td><td>LUANA XAVIER</td><td>2024-01-08T14:40:00Z</td><td>POUPANÇA</td><td>2023-05-22T17:05:00Z</td></tr><tr><td>LUANA</td><td>XAVIER</td><td>27</td><td>220</td><td>JANTAR EM RESTAURANTE</td><td>2024-08-08T15:00:00Z</td><td>8899001122334456</td><td>LUANA XAVIER</td><td>2024-01-08T14:40:00Z</td><td>POUPANÇA</td><td>2023-05-22T17:05:00Z</td></tr><tr><td>LEANDRO</td><td>PINTO</td><td>39</td><td>220</td><td>PAGAMENTO DE CONTA</td><td>2024-01-25T14:00:00Z</td><td>5566778899001122</td><td>LEANDRO PINTO</td><td>2023-12-25T14:00:00Z</td><td>CORRENTE</td><td>2024-03-12T11:10:00Z</td></tr><tr><td>LEANDRO</td><td>PINTO</td><td>39</td><td>150</td><td>PAGAMENTO DE CONTA</td><td>2024-03-25T14:00:00Z</td><td>5566778899001122</td><td>LEANDRO PINTO</td><td>2023-12-25T14:00:00Z</td><td>CORRENTE</td><td>2024-03-12T11:10:00Z</td></tr><tr><td>LEANDRO</td><td>PINTO</td><td>39</td><td>220</td><td>PAGAMENTO DE CONTA</td><td>2024-05-25T14:00:00Z</td><td>5566778899001122</td><td>LEANDRO PINTO</td><td>2023-12-25T14:00:00Z</td><td>CORRENTE</td><td>2024-03-12T11:10:00Z</td></tr><tr><td>LEANDRO</td><td>PINTO</td><td>39</td><td>250</td><td>PAGAMENTO DE CONTA</td><td>2024-07-25T14:00:00Z</td><td>5566778899001122</td><td>LEANDRO PINTO</td><td>2023-12-25T14:00:00Z</td><td>CORRENTE</td><td>2024-03-12T11:10:00Z</td></tr><tr><td>NATÁLIA</td><td>DIAS</td><td>26</td><td>120</td><td>ASSINATURA MENSAL</td><td>2024-01-24T15:10:00Z</td><td>4455667788990011</td><td>NATÁLIA DIAS</td><td>2023-12-24T15:10:00Z</td><td>POUPANÇA</td><td>2023-07-05T17:50:00Z</td></tr><tr><td>NATÁLIA</td><td>DIAS</td><td>26</td><td>75</td><td>ASSINATURA MENSAL</td><td>2024-03-24T15:10:00Z</td><td>4455667788990011</td><td>NATÁLIA DIAS</td><td>2023-12-24T15:10:00Z</td><td>POUPANÇA</td><td>2023-07-05T17:50:00Z</td></tr><tr><td>NATÁLIA</td><td>DIAS</td><td>26</td><td>100</td><td>ASSINATURA MENSAL</td><td>2024-05-24T15:10:00Z</td><td>4455667788990011</td><td>NATÁLIA DIAS</td><td>2023-12-24T15:10:00Z</td><td>POUPANÇA</td><td>2023-07-05T17:50:00Z</td></tr><tr><td>NATÁLIA</td><td>DIAS</td><td>26</td><td>90</td><td>ASSINATURA MENSAL</td><td>2024-07-24T15:10:00Z</td><td>4455667788990011</td><td>NATÁLIA DIAS</td><td>2023-12-24T15:10:00Z</td><td>POUPANÇA</td><td>2023-07-05T17:50:00Z</td></tr><tr><td>EDUARDO</td><td>VIEIRA</td><td>36</td><td>250</td><td>COMPRA NO SHOPPING</td><td>2024-01-29T16:00:00Z</td><td>9900112233445566</td><td>EDUARDO VIEIRA</td><td>2023-12-29T14:30:00Z</td><td>CORRENTE</td><td>2024-05-05T10:50:00Z</td></tr><tr><td>EDUARDO</td><td>VIEIRA</td><td>36</td><td>250</td><td>COMPRA NO SHOPPING</td><td>2024-03-29T14:30:00Z</td><td>9900112233445566</td><td>EDUARDO VIEIRA</td><td>2023-12-29T14:30:00Z</td><td>CORRENTE</td><td>2024-05-05T10:50:00Z</td></tr><tr><td>EDUARDO</td><td>VIEIRA</td><td>36</td><td>220</td><td>COMPRA NO SHOPPING</td><td>2024-05-29T14:30:00Z</td><td>9900112233445566</td><td>EDUARDO VIEIRA</td><td>2023-12-29T14:30:00Z</td><td>CORRENTE</td><td>2024-05-05T10:50:00Z</td></tr><tr><td>EDUARDO</td><td>VIEIRA</td><td>36</td><td>250</td><td>COMPRA NO SHOPPING</td><td>2024-07-29T14:30:00Z</td><td>9900112233445566</td><td>EDUARDO VIEIRA</td><td>2023-12-29T14:30:00Z</td><td>CORRENTE</td><td>2024-05-05T10:50:00Z</td></tr><tr><td>GUILHERME</td><td>TEIXEIRA</td><td>28</td><td>100</td><td>COMPRA SUPERMERCADO</td><td>2024-01-21T14:00:00Z</td><td>1122334455667788</td><td>GUILHERME TEIXEIRA</td><td>2023-12-21T14:00:00Z</td><td>CORRENTE</td><td>2024-01-15T10:30:00Z</td></tr><tr><td>GUILHERME</td><td>TEIXEIRA</td><td>28</td><td>111</td><td>COMPRA SUPERMERCADO</td><td>2024-03-21T14:00:00Z</td><td>1122334455667788</td><td>GUILHERME TEIXEIRA</td><td>2023-12-21T14:00:00Z</td><td>CORRENTE</td><td>2024-01-15T10:30:00Z</td></tr><tr><td>GUILHERME</td><td>TEIXEIRA</td><td>28</td><td>190</td><td>COMPRA SUPERMERCADO</td><td>2024-05-21T14:00:00Z</td><td>1122334455667788</td><td>GUILHERME TEIXEIRA</td><td>2023-12-21T14:00:00Z</td><td>CORRENTE</td><td>2024-01-15T10:30:00Z</td></tr><tr><td>GUILHERME</td><td>TEIXEIRA</td><td>28</td><td>220</td><td>COMPRA SUPERMERCADO</td><td>2024-07-21T14:00:00Z</td><td>1122334455667788</td><td>GUILHERME TEIXEIRA</td><td>2023-12-21T14:00:00Z</td><td>CORRENTE</td><td>2024-01-15T10:30:00Z</td></tr><tr><td>AMANDA</td><td>CAMPOS</td><td>29</td><td>125</td><td>COMPRA ELETRÔNICOS</td><td>2024-02-02T09:20:00Z</td><td>2233445566778890</td><td>AMANDA CAMPOS</td><td>2024-01-02T12:00:00Z</td><td>POUPANÇA</td><td>2023-11-15T09:25:00Z</td></tr><tr><td>AMANDA</td><td>CAMPOS</td><td>29</td><td>130</td><td>COMPRA ELETRÔNICOS</td><td>2024-04-02T09:20:00Z</td><td>2233445566778890</td><td>AMANDA CAMPOS</td><td>2024-01-02T12:00:00Z</td><td>POUPANÇA</td><td>2023-11-15T09:25:00Z</td></tr><tr><td>AMANDA</td><td>CAMPOS</td><td>29</td><td>210</td><td>COMPRA ELETRÔNICOS</td><td>2024-06-02T09:20:00Z</td><td>2233445566778890</td><td>AMANDA CAMPOS</td><td>2024-01-02T12:00:00Z</td><td>POUPANÇA</td><td>2023-11-15T09:25:00Z</td></tr><tr><td>AMANDA</td><td>CAMPOS</td><td>29</td><td>200</td><td>COMPRA ELETRÔNICOS</td><td>2024-08-02T09:20:00Z</td><td>2233445566778890</td><td>AMANDA CAMPOS</td><td>2024-01-02T12:00:00Z</td><td>POUPANÇA</td><td>2023-11-15T09:25:00Z</td></tr><tr><td>LUCAS</td><td>MARTINS</td><td>33</td><td>180</td><td>COMPRA SUPERMERCADO</td><td>2024-01-11T13:30:00Z</td><td>1234123412341234</td><td>LUCAS MARTINS</td><td>2023-12-11T13:30:00Z</td><td>CORRENTE</td><td>2024-06-22T09:05:00Z</td></tr><tr><td>FÁBIO</td><td>FREITAS</td><td>40</td><td>90</td><td>COMPRA DE ROUPAS</td><td>2024-02-03T11:45:00Z</td><td>3344556677889901</td><td>FÁBIO FREITAS</td><td>2024-01-03T11:20:00Z</td><td>CORRENTE</td><td>2024-07-10T08:45:00Z</td></tr><tr><td>LUCAS</td><td>MARTINS</td><td>33</td><td>220</td><td>COMPRA SUPERMERCADO</td><td>2024-03-11T13:30:00Z</td><td>1234123412341234</td><td>LUCAS MARTINS</td><td>2023-12-11T13:30:00Z</td><td>CORRENTE</td><td>2024-06-22T09:05:00Z</td></tr><tr><td>FÁBIO</td><td>FREITAS</td><td>40</td><td>100</td><td>COMPRA DE ROUPAS</td><td>2024-04-03T11:45:00Z</td><td>3344556677889901</td><td>FÁBIO FREITAS</td><td>2024-01-03T11:20:00Z</td><td>CORRENTE</td><td>2024-07-10T08:45:00Z</td></tr><tr><td>LUCAS</td><td>MARTINS</td><td>33</td><td>175</td><td>COMPRA SUPERMERCADO</td><td>2024-05-11T13:30:00Z</td><td>1234123412341234</td><td>LUCAS MARTINS</td><td>2023-12-11T13:30:00Z</td><td>CORRENTE</td><td>2024-06-22T09:05:00Z</td></tr><tr><td>FÁBIO</td><td>FREITAS</td><td>40</td><td>100</td><td>COMPRA DE ROUPAS</td><td>2024-06-03T11:45:00Z</td><td>3344556677889901</td><td>FÁBIO FREITAS</td><td>2024-01-03T11:20:00Z</td><td>CORRENTE</td><td>2024-07-10T08:45:00Z</td></tr><tr><td>LUCAS</td><td>MARTINS</td><td>33</td><td>300</td><td>COMPRA SUPERMERCADO</td><td>2024-07-11T13:30:00Z</td><td>1234123412341234</td><td>LUCAS MARTINS</td><td>2023-12-11T13:30:00Z</td><td>CORRENTE</td><td>2024-06-22T09:05:00Z</td></tr><tr><td>FÁBIO</td><td>FREITAS</td><td>40</td><td>90</td><td>COMPRA DE ROUPAS</td><td>2024-08-03T11:45:00Z</td><td>3344556677889901</td><td>FÁBIO FREITAS</td><td>2024-01-03T11:20:00Z</td><td>CORRENTE</td><td>2024-07-10T08:45:00Z</td></tr><tr><td>BIANCA</td><td>CARVALHO</td><td>31</td><td>190</td><td>ASSINATURA MENSAL</td><td>2024-01-14T12:30:00Z</td><td>3456345634561234</td><td>BIANCA CARVALHO</td><td>2023-12-14T12:30:00Z</td><td>POUPANÇA</td><td>2023-10-14T14:50:00Z</td></tr><tr><td>BIANCA</td><td>CARVALHO</td><td>31</td><td>300</td><td>ASSINATURA MENSAL</td><td>2024-03-14T12:30:00Z</td><td>3456345634561234</td><td>BIANCA CARVALHO</td><td>2023-12-14T12:30:00Z</td><td>POUPANÇA</td><td>2023-10-14T14:50:00Z</td></tr><tr><td>BIANCA</td><td>CARVALHO</td><td>31</td><td>170</td><td>ASSINATURA MENSAL</td><td>2024-05-14T12:30:00Z</td><td>3456345634561234</td><td>BIANCA CARVALHO</td><td>2023-12-14T12:30:00Z</td><td>POUPANÇA</td><td>2023-10-14T14:50:00Z</td></tr><tr><td>BIANCA</td><td>CARVALHO</td><td>31</td><td>230</td><td>ASSINATURA MENSAL</td><td>2024-07-14T12:30:00Z</td><td>3456345634561234</td><td>BIANCA CARVALHO</td><td>2023-12-14T12:30:00Z</td><td>POUPANÇA</td><td>2023-10-14T14:50:00Z</td></tr><tr><td>CARLA</td><td>FERNANDES</td><td>29</td><td>220</td><td>COMPRA ELETRÔNICOS</td><td>2024-02-12T11:15:00Z</td><td>2233445566778891</td><td>CARLA FERNANDES</td><td>2024-01-12T14:20:00Z</td><td>POUPANÇA</td><td>2023-07-10T16:10:00Z</td></tr><tr><td>CARLA</td><td>FERNANDES</td><td>29</td><td>200</td><td>COMPRA ELETRÔNICOS</td><td>2024-04-12T11:15:00Z</td><td>2233445566778891</td><td>CARLA FERNANDES</td><td>2024-01-12T14:20:00Z</td><td>POUPANÇA</td><td>2023-07-10T16:10:00Z</td></tr><tr><td>CARLA</td><td>FERNANDES</td><td>29</td><td>500</td><td>COMPRA ELETRÔNICOS</td><td>2024-06-12T11:15:00Z</td><td>2233445566778891</td><td>CARLA FERNANDES</td><td>2024-01-12T14:20:00Z</td><td>POUPANÇA</td><td>2023-07-10T16:10:00Z</td></tr><tr><td>CARLA</td><td>FERNANDES</td><td>29</td><td>350</td><td>COMPRA ELETRÔNICOS</td><td>2024-08-12T11:15:00Z</td><td>2233445566778891</td><td>CARLA FERNANDES</td><td>2024-01-12T14:20:00Z</td><td>POUPANÇA</td><td>2023-07-10T16:10:00Z</td></tr><tr><td>MARIA</td><td>OLIVEIRA</td><td>28</td><td>250</td><td>COMPRA ELETRÔNICOS</td><td>2024-01-02T14:30:00Z</td><td>5555666677778888</td><td>MARIA OLIVEIRA</td><td>2023-12-02T14:30:00Z</td><td>POUPANÇA</td><td>2023-05-15T14:30:00Z</td></tr><tr><td>MARIA</td><td>OLIVEIRA</td><td>28</td><td>91</td><td>COMPRA ELETRÔNICOS</td><td>2024-03-02T14:30:00Z</td><td>5555666677778888</td><td>MARIA OLIVEIRA</td><td>2023-12-02T14:30:00Z</td><td>POUPANÇA</td><td>2023-05-15T14:30:00Z</td></tr><tr><td>MARIA</td><td>OLIVEIRA</td><td>28</td><td>150</td><td>COMPRA ELETRÔNICOS</td><td>2024-05-02T14:30:00Z</td><td>5555666677778888</td><td>MARIA OLIVEIRA</td><td>2023-12-02T14:30:00Z</td><td>POUPANÇA</td><td>2023-05-15T14:30:00Z</td></tr><tr><td>MARIA</td><td>OLIVEIRA</td><td>28</td><td>250</td><td>COMPRA ELETRÔNICOS</td><td>2024-07-02T14:30:00Z</td><td>5555666677778888</td><td>MARIA OLIVEIRA</td><td>2023-12-02T14:30:00Z</td><td>POUPANÇA</td><td>2023-05-15T14:30:00Z</td></tr><tr><td>PRISCILA</td><td>LOPES</td><td>25</td><td>100</td><td>TAXA BANCÁRIA</td><td>2024-01-30T13:45:00Z</td><td>0011223344556677</td><td>PRISCILA LOPES</td><td>2023-12-30T13:00:00Z</td><td>POUPANÇA</td><td>2023-10-20T12:15:00Z</td></tr><tr><td>PRISCILA</td><td>LOPES</td><td>25</td><td>80</td><td>TAXA BANCÁRIA</td><td>2024-03-30T13:45:00Z</td><td>0011223344556677</td><td>PRISCILA LOPES</td><td>2023-12-30T13:00:00Z</td><td>POUPANÇA</td><td>2023-10-20T12:15:00Z</td></tr><tr><td>PRISCILA</td><td>LOPES</td><td>25</td><td>90</td><td>TAXA BANCÁRIA</td><td>2024-05-30T13:45:00Z</td><td>0011223344556677</td><td>PRISCILA LOPES</td><td>2023-12-30T13:00:00Z</td><td>POUPANÇA</td><td>2023-10-20T12:15:00Z</td></tr><tr><td>PRISCILA</td><td>LOPES</td><td>25</td><td>300</td><td>TAXA BANCÁRIA</td><td>2024-07-30T13:45:00Z</td><td>0011223344556677</td><td>PRISCILA LOPES</td><td>2023-12-30T13:00:00Z</td><td>POUPANÇA</td><td>2023-10-20T12:15:00Z</td></tr><tr><td>HELENA</td><td>MENDES</td><td>25</td><td>300</td><td>GASOLINA</td><td>2024-02-16T09:50:00Z</td><td>6677889900112235</td><td>HELENA MENDES</td><td>2024-01-16T10:00:00Z</td><td>POUPANÇA</td><td>2023-09-25T16:25:00Z</td></tr><tr><td>HELENA</td><td>MENDES</td><td>25</td><td>300</td><td>GASOLINA</td><td>2024-04-16T09:50:00Z</td><td>6677889900112235</td><td>HELENA MENDES</td><td>2024-01-16T10:00:00Z</td><td>POUPANÇA</td><td>2023-09-25T16:25:00Z</td></tr><tr><td>HELENA</td><td>MENDES</td><td>25</td><td>250</td><td>GASOLINA</td><td>2024-06-16T09:50:00Z</td><td>6677889900112235</td><td>HELENA MENDES</td><td>2024-01-16T10:00:00Z</td><td>POUPANÇA</td><td>2023-09-25T16:25:00Z</td></tr><tr><td>HELENA</td><td>MENDES</td><td>25</td><td>300</td><td>GASOLINA</td><td>2024-08-16T09:50:00Z</td><td>6677889900112235</td><td>HELENA MENDES</td><td>2024-01-16T10:00:00Z</td><td>POUPANÇA</td><td>2023-09-25T16:25:00Z</td></tr><tr><td>VANESSA</td><td>CORREIA</td><td>34</td><td>120</td><td>JANTAR EM RESTAURANTE</td><td>2024-01-18T09:50:00Z</td><td>0123012301231234</td><td>VANESSA CORREIA</td><td>2023-12-18T09:50:00Z</td><td>POUPANÇA</td><td>2023-11-30T16:20:00Z</td></tr><tr><td>VANESSA</td><td>CORREIA</td><td>34</td><td>251</td><td>JANTAR EM RESTAURANTE</td><td>2024-03-18T09:50:00Z</td><td>0123012301231234</td><td>VANESSA CORREIA</td><td>2023-12-18T09:50:00Z</td><td>POUPANÇA</td><td>2023-11-30T16:20:00Z</td></tr><tr><td>VANESSA</td><td>CORREIA</td><td>34</td><td>130</td><td>JANTAR EM RESTAURANTE</td><td>2024-05-18T09:50:00Z</td><td>0123012301231234</td><td>VANESSA CORREIA</td><td>2023-12-18T09:50:00Z</td><td>POUPANÇA</td><td>2023-11-30T16:20:00Z</td></tr><tr><td>VANESSA</td><td>CORREIA</td><td>34</td><td>200</td><td>JANTAR EM RESTAURANTE</td><td>2024-07-18T09:50:00Z</td><td>0123012301231234</td><td>VANESSA CORREIA</td><td>2023-12-18T09:50:00Z</td><td>POUPANÇA</td><td>2023-11-30T16:20:00Z</td></tr><tr><td>TATIANA</td><td>CARDOSO</td><td>26</td><td>300</td><td>GASOLINA</td><td>2024-02-06T16:20:00Z</td><td>6677889900112234</td><td>TATIANA CARDOSO</td><td>2024-01-06T13:20:00Z</td><td>POUPANÇA</td><td>2023-11-25T15:30:00Z</td></tr><tr><td>TATIANA</td><td>CARDOSO</td><td>26</td><td>300</td><td>GASOLINA</td><td>2024-04-06T16:20:00Z</td><td>6677889900112234</td><td>TATIANA CARDOSO</td><td>2024-01-06T13:20:00Z</td><td>POUPANÇA</td><td>2023-11-25T15:30:00Z</td></tr><tr><td>TATIANA</td><td>CARDOSO</td><td>26</td><td>300</td><td>GASOLINA</td><td>2024-06-06T16:20:00Z</td><td>6677889900112234</td><td>TATIANA CARDOSO</td><td>2024-01-06T13:20:00Z</td><td>POUPANÇA</td><td>2023-11-25T15:30:00Z</td></tr><tr><td>TATIANA</td><td>CARDOSO</td><td>26</td><td>300</td><td>GASOLINA</td><td>2024-08-06T16:20:00Z</td><td>6677889900112234</td><td>TATIANA CARDOSO</td><td>2024-01-06T13:20:00Z</td><td>POUPANÇA</td><td>2023-11-25T15:30:00Z</td></tr></tbody></table></div>"
      ]
     },
     "metadata": {
      "application/vnd.databricks.v1+output": {
       "addedWidgets": {},
       "aggData": [],
       "aggError": "",
       "aggOverflow": false,
       "aggSchema": [],
       "aggSeriesLimitReached": false,
       "aggType": "",
       "arguments": {},
       "columnCustomDisplayInfos": {},
       "data": [
        [
         "DIEGO",
         "BARROS",
         37,
         "175",
         "COMPRA SUPERMERCADO",
         "2024-02-01T10:30:00Z",
         "1122334455667789",
         "DIEGO BARROS",
         "2024-01-01T16:45:00Z",
         "CORRENTE",
         "2024-06-01T14:30:00Z"
        ],
        [
         "DIEGO",
         "BARROS",
         37,
         "150",
         "COMPRA SUPERMERCADO",
         "2024-04-01T10:30:00Z",
         "1122334455667789",
         "DIEGO BARROS",
         "2024-01-01T16:45:00Z",
         "CORRENTE",
         "2024-06-01T14:30:00Z"
        ],
        [
         "DIEGO",
         "BARROS",
         37,
         "180",
         "COMPRA SUPERMERCADO",
         "2024-06-01T10:30:00Z",
         "1122334455667789",
         "DIEGO BARROS",
         "2024-01-01T16:45:00Z",
         "CORRENTE",
         "2024-06-01T14:30:00Z"
        ],
        [
         "DIEGO",
         "BARROS",
         37,
         "150",
         "COMPRA SUPERMERCADO",
         "2024-08-01T10:30:00Z",
         "1122334455667789",
         "DIEGO BARROS",
         "2024-01-01T16:45:00Z",
         "CORRENTE",
         "2024-06-01T14:30:00Z"
        ],
        [
         "ROBERTA",
         "ANTUNES",
         28,
         "50",
         "ASSINATURA MENSAL",
         "2024-02-04T14:10:00Z",
         "4455667788990012",
         "ROBERTA ANTUNES",
         "2024-01-04T14:00:00Z",
         "POUPANÇA",
         "2023-12-01T10:40:00Z"
        ],
        [
         "ROBERTA",
         "ANTUNES",
         28,
         "75",
         "ASSINATURA MENSAL",
         "2024-04-04T14:10:00Z",
         "4455667788990012",
         "ROBERTA ANTUNES",
         "2024-01-04T14:00:00Z",
         "POUPANÇA",
         "2023-12-01T10:40:00Z"
        ],
        [
         "ROBERTA",
         "ANTUNES",
         28,
         "120",
         "ASSINATURA MENSAL",
         "2024-06-04T14:10:00Z",
         "4455667788990012",
         "ROBERTA ANTUNES",
         "2024-01-04T14:00:00Z",
         "POUPANÇA",
         "2023-12-01T10:40:00Z"
        ],
        [
         "ROBERTA",
         "ANTUNES",
         28,
         "120",
         "ASSINATURA MENSAL",
         "2024-08-04T14:10:00Z",
         "4455667788990012",
         "ROBERTA ANTUNES",
         "2024-01-04T14:00:00Z",
         "POUPANÇA",
         "2023-12-01T10:40:00Z"
        ],
        [
         "JÚLIA",
         "FONSECA",
         31,
         "150",
         "JANTAR EM RESTAURANTE",
         "2024-01-28T12:15:00Z",
         "8899001122334455",
         "JÚLIA FONSECA",
         "2023-12-28T12:15:00Z",
         "POUPANÇA",
         "2023-09-10T16:45:00Z"
        ],
        [
         "JÚLIA",
         "FONSECA",
         31,
         "500",
         "JANTAR EM RESTAURANTE",
         "2024-03-28T12:15:00Z",
         "8899001122334455",
         "JÚLIA FONSECA",
         "2023-12-28T12:15:00Z",
         "POUPANÇA",
         "2023-09-10T16:45:00Z"
        ],
        [
         "JÚLIA",
         "FONSECA",
         31,
         "400",
         "JANTAR EM RESTAURANTE",
         "2024-05-28T12:15:00Z",
         "8899001122334455",
         "JÚLIA FONSECA",
         "2023-12-28T12:15:00Z",
         "POUPANÇA",
         "2023-09-10T16:45:00Z"
        ],
        [
         "JÚLIA",
         "FONSECA",
         31,
         "150",
         "JANTAR EM RESTAURANTE",
         "2024-07-28T12:15:00Z",
         "8899001122334455",
         "JÚLIA FONSECA",
         "2023-12-28T12:15:00Z",
         "POUPANÇA",
         "2023-09-10T16:45:00Z"
        ],
        [
         "PATRÍCIA",
         "NASCIMENTO",
         32,
         "180",
         "GASOLINA",
         "2024-01-26T13:30:00Z",
         "6677889900112233",
         "PATRÍCIA NASCIMENTO",
         "2023-12-26T13:30:00Z",
         "POUPANÇA",
         "2023-08-28T13:25:00Z"
        ],
        [
         "RODRIGO",
         "REZENDE",
         33,
         "300",
         "COMPRA ONLINE",
         "2024-01-27T10:20:00Z",
         "7788990011223344",
         "RODRIGO REZENDE",
         "2023-12-27T10:20:00Z",
         "CORRENTE",
         "2024-04-22T09:35:00Z"
        ],
        [
         "PATRÍCIA",
         "NASCIMENTO",
         32,
         "120",
         "GASOLINA",
         "2024-03-26T13:30:00Z",
         "6677889900112233",
         "PATRÍCIA NASCIMENTO",
         "2023-12-26T13:30:00Z",
         "POUPANÇA",
         "2023-08-28T13:25:00Z"
        ],
        [
         "RODRIGO",
         "REZENDE",
         33,
         "400",
         "COMPRA ONLINE",
         "2024-03-27T10:20:00Z",
         "7788990011223344",
         "RODRIGO REZENDE",
         "2023-12-27T10:20:00Z",
         "CORRENTE",
         "2024-04-22T09:35:00Z"
        ],
        [
         "PATRÍCIA",
         "NASCIMENTO",
         32,
         "280",
         "GASOLINA",
         "2024-05-26T13:30:00Z",
         "6677889900112233",
         "PATRÍCIA NASCIMENTO",
         "2023-12-26T13:30:00Z",
         "POUPANÇA",
         "2023-08-28T13:25:00Z"
        ],
        [
         "RODRIGO",
         "REZENDE",
         33,
         "350",
         "COMPRA ONLINE",
         "2024-05-27T10:20:00Z",
         "7788990011223344",
         "RODRIGO REZENDE",
         "2023-12-27T10:20:00Z",
         "CORRENTE",
         "2024-04-22T09:35:00Z"
        ],
        [
         "PATRÍCIA",
         "NASCIMENTO",
         32,
         "350",
         "GASOLINA",
         "2024-07-26T13:30:00Z",
         "6677889900112233",
         "PATRÍCIA NASCIMENTO",
         "2023-12-26T13:30:00Z",
         "POUPANÇA",
         "2023-08-28T13:25:00Z"
        ],
        [
         "RODRIGO",
         "REZENDE",
         33,
         "420",
         "COMPRA ONLINE",
         "2024-07-27T10:20:00Z",
         "7788990011223344",
         "RODRIGO REZENDE",
         "2023-12-27T10:20:00Z",
         "CORRENTE",
         "2024-04-22T09:35:00Z"
        ],
        [
         "DANIELE",
         "CASTRO",
         31,
         "90",
         "ASSINATURA MENSAL",
         "2024-02-14T10:10:00Z",
         "4455667788990013",
         "DANIELE CASTRO",
         "2024-01-14T13:30:00Z",
         "POUPANÇA",
         "2023-08-05T13:40:00Z"
        ],
        [
         "DANIELE",
         "CASTRO",
         31,
         "150",
         "ASSINATURA MENSAL",
         "2024-04-14T10:10:00Z",
         "4455667788990013",
         "DANIELE CASTRO",
         "2024-01-14T13:30:00Z",
         "POUPANÇA",
         "2023-08-05T13:40:00Z"
        ],
        [
         "DANIELE",
         "CASTRO",
         31,
         "140",
         "ASSINATURA MENSAL",
         "2024-06-14T10:10:00Z",
         "4455667788990013",
         "DANIELE CASTRO",
         "2024-01-14T13:30:00Z",
         "POUPANÇA",
         "2023-08-05T13:40:00Z"
        ],
        [
         "DANIELE",
         "CASTRO",
         31,
         "140",
         "ASSINATURA MENSAL",
         "2024-08-14T10:10:00Z",
         "4455667788990013",
         "DANIELE CASTRO",
         "2024-01-14T13:30:00Z",
         "POUPANÇA",
         "2023-08-05T13:40:00Z"
        ],
        [
         "CAMILA",
         "BARBOSA",
         25,
         "220",
         "COMPRA DE ELETRÔNICOS",
         "2024-01-12T11:50:00Z",
         "5678567856781234",
         "CAMILA BARBOSA",
         "2023-12-12T11:50:00Z",
         "POUPANÇA",
         "2023-11-01T17:45:00Z"
        ],
        [
         "CAMILA",
         "BARBOSA",
         25,
         "250",
         "COMPRA ELETRÔNICOS",
         "2024-03-12T11:50:00Z",
         "5678567856781234",
         "CAMILA BARBOSA",
         "2023-12-12T11:50:00Z",
         "POUPANÇA",
         "2023-11-01T17:45:00Z"
        ],
        [
         "CAMILA",
         "BARBOSA",
         25,
         "225",
         "COMPRA ELETRÔNICOS",
         "2024-05-12T11:50:00Z",
         "5678567856781234",
         "CAMILA BARBOSA",
         "2023-12-12T11:50:00Z",
         "POUPANÇA",
         "2023-11-01T17:45:00Z"
        ],
        [
         "CAMILA",
         "BARBOSA",
         25,
         "400",
         "COMPRA ELETRÔNICOS",
         "2024-07-12T11:50:00Z",
         "5678567856781234",
         "CAMILA BARBOSA",
         "2023-12-12T11:50:00Z",
         "POUPANÇA",
         "2023-11-01T17:45:00Z"
        ],
        [
         "THAÍS",
         "MONTEIRO",
         27,
         "400",
         "COMPRA ELETRÔNICOS",
         "2024-01-22T10:00:00Z",
         "2233445566778899",
         "THAÍS MONTEIRO",
         "2023-12-22T10:00:00Z",
         "POUPANÇA",
         "2023-06-20T15:40:00Z"
        ],
        [
         "THAÍS",
         "MONTEIRO",
         27,
         "60",
         "COMPRA ELETRÔNICOS",
         "2024-03-22T10:00:00Z",
         "2233445566778899",
         "THAÍS MONTEIRO",
         "2023-12-22T10:00:00Z",
         "POUPANÇA",
         "2023-06-20T15:40:00Z"
        ],
        [
         "THAÍS",
         "MONTEIRO",
         27,
         "260",
         "COMPRA ELETRÔNICOS",
         "2024-05-22T10:00:00Z",
         "2233445566778899",
         "THAÍS MONTEIRO",
         "2023-12-22T10:00:00Z",
         "POUPANÇA",
         "2023-06-20T15:40:00Z"
        ],
        [
         "THAÍS",
         "MONTEIRO",
         27,
         "100",
         "COMPRA ELETRÔNICOS",
         "2024-07-22T10:00:00Z",
         "2233445566778899",
         "THAÍS MONTEIRO",
         "2023-12-22T10:00:00Z",
         "POUPANÇA",
         "2023-06-20T15:40:00Z"
        ],
        [
         "ROGÉRIO",
         "CAMPOS",
         35,
         "400",
         "COMPRA ONLINE",
         "2024-02-17T14:00:00Z",
         "7788990011223346",
         "ROGÉRIO CAMPOS",
         "2024-01-17T14:30:00Z",
         "CORRENTE",
         "2024-05-30T10:15:00Z"
        ],
        [
         "ROGÉRIO",
         "CAMPOS",
         35,
         "250",
         "COMPRA ONLINE",
         "2024-04-17T14:00:00Z",
         "7788990011223346",
         "ROGÉRIO CAMPOS",
         "2024-01-17T14:30:00Z",
         "CORRENTE",
         "2024-05-30T10:15:00Z"
        ],
        [
         "ROGÉRIO",
         "CAMPOS",
         35,
         "320",
         "COMPRA ONLINE",
         "2024-06-17T14:00:00Z",
         "7788990011223346",
         "ROGÉRIO CAMPOS",
         "2024-01-17T14:30:00Z",
         "CORRENTE",
         "2024-05-30T10:15:00Z"
        ],
        [
         "ROGÉRIO",
         "CAMPOS",
         35,
         "320",
         "COMPRA ONLINE",
         "2024-08-17T14:00:00Z",
         "7788990011223346",
         "ROGÉRIO CAMPOS",
         "2024-01-17T14:30:00Z",
         "CORRENTE",
         "2024-05-30T10:15:00Z"
        ],
        [
         "JOÃO",
         "SILVA",
         30,
         "101",
         "COMPRA SUPERMERCADO",
         "2024-01-01T10:00:00Z",
         "1111222233334444",
         "JOÃO SILVA",
         "2023-12-01T10:00:00Z",
         "CORRENTE",
         "2024-01-01T10:00:00Z"
        ],
        [
         "JOÃO",
         "SILVA",
         30,
         "151",
         "COMPRA SUPERMERCADO",
         "2024-03-01T10:00:00Z",
         "1111222233334444",
         "JOÃO SILVA",
         "2023-12-01T10:00:00Z",
         "CORRENTE",
         "2024-01-01T10:00:00Z"
        ],
        [
         "JOÃO",
         "SILVA",
         30,
         "220",
         "COMPRA SUPERMERCADO",
         "2024-05-01T10:00:00Z",
         "1111222233334444",
         "JOÃO SILVA",
         "2023-12-01T10:00:00Z",
         "CORRENTE",
         "2024-01-01T10:00:00Z"
        ],
        [
         "JOÃO",
         "SILVA",
         30,
         "200",
         "COMPRA SUPERMERCADO",
         "2024-07-01T10:00:00Z",
         "1111222233334444",
         "JOÃO SILVA",
         "2023-12-01T10:00:00Z",
         "CORRENTE",
         "2024-01-01T10:00:00Z"
        ],
        [
         "VINÍCIUS",
         "GOMES",
         36,
         "140",
         "COMPRA DE ROUPAS",
         "2024-01-13T10:00:00Z",
         "9012901290125678",
         "VINÍCIUS GOMES",
         "2023-12-13T10:00:00Z",
         "CORRENTE",
         "2024-07-04T11:30:00Z"
        ],
        [
         "VINÍCIUS",
         "GOMES",
         36,
         "100",
         "COMPRA DE ROUPAS",
         "2024-03-13T10:00:00Z",
         "9012901290125678",
         "VINÍCIUS GOMES",
         "2023-12-13T10:00:00Z",
         "CORRENTE",
         "2024-07-04T11:30:00Z"
        ],
        [
         "VINÍCIUS",
         "GOMES",
         36,
         "120",
         "COMPRA DE ROUPAS",
         "2024-05-13T10:00:00Z",
         "9012901290125678",
         "VINÍCIUS GOMES",
         "2023-12-13T10:00:00Z",
         "CORRENTE",
         "2024-07-04T11:30:00Z"
        ],
        [
         "VINÍCIUS",
         "GOMES",
         36,
         "110",
         "COMPRA DE ROUPAS",
         "2024-07-13T10:00:00Z",
         "9012901290125678",
         "VINÍCIUS GOMES",
         "2023-12-13T10:00:00Z",
         "CORRENTE",
         "2024-07-04T11:30:00Z"
        ],
        [
         "JULIANA",
         "ALMEIDA",
         32,
         "300",
         "COMPRA ONLINE",
         "2024-01-06T13:15:00Z",
         "2222333344445555",
         "JULIANA ALMEIDA",
         "2023-12-06T13:15:00Z",
         "POUPANÇA",
         "2023-06-25T08:10:00Z"
        ],
        [
         "LARISSA",
         "MELO",
         24,
         "80",
         "GASOLINA",
         "2024-01-16T13:20:00Z",
         "2345234523451234",
         "LARISSA MELO",
         "2023-12-16T13:20:00Z",
         "POUPANÇA",
         "2023-12-25T10:10:00Z"
        ],
        [
         "JULIANA",
         "ALMEIDA",
         32,
         "181",
         "COMPRA ONLINE",
         "2024-03-06T13:15:00Z",
         "2222333344445555",
         "JULIANA ALMEIDA",
         "2023-12-06T13:15:00Z",
         "POUPANÇA",
         "2023-06-25T08:10:00Z"
        ],
        [
         "LARISSA",
         "MELO",
         24,
         "76",
         "GASOLINA",
         "2024-03-16T13:20:00Z",
         "2345234523451234",
         "LARISSA MELO",
         "2023-12-16T13:20:00Z",
         "POUPANÇA",
         "2023-12-25T10:10:00Z"
        ],
        [
         "JULIANA",
         "ALMEIDA",
         32,
         "301",
         "COMPRA ONLINE",
         "2024-05-06T13:15:00Z",
         "2222333344445555",
         "JULIANA ALMEIDA",
         "2023-12-06T13:15:00Z",
         "POUPANÇA",
         "2023-06-25T08:10:00Z"
        ],
        [
         "LARISSA",
         "MELO",
         24,
         "80",
         "GASOLINA",
         "2024-05-16T13:20:00Z",
         "2345234523451234",
         "LARISSA MELO",
         "2023-12-16T13:20:00Z",
         "POUPANÇA",
         "2023-12-25T10:10:00Z"
        ],
        [
         "JULIANA",
         "ALMEIDA",
         32,
         "350",
         "COMPRA ONLINE",
         "2024-07-06T13:15:00Z",
         "2222333344445555",
         "JULIANA ALMEIDA",
         "2023-12-06T13:15:00Z",
         "POUPANÇA",
         "2023-06-25T08:10:00Z"
        ],
        [
         "LARISSA",
         "MELO",
         24,
         "120",
         "GASOLINA",
         "2024-07-16T13:20:00Z",
         "2345234523451234",
         "LARISSA MELO",
         "2023-12-16T13:20:00Z",
         "POUPANÇA",
         "2023-12-25T10:10:00Z"
        ],
        [
         "PEDRO",
         "SANTOS",
         35,
         "75",
         "PAGAMENTO DE CONTA",
         "2024-01-03T09:45:00Z",
         "9999000011112222",
         "PEDRO SANTOS",
         "2023-12-03T09:45:00Z",
         "CORRENTE",
         "2024-02-10T09:45:00Z"
        ],
        [
         "PEDRO",
         "SANTOS",
         35,
         "210",
         "COMPRA DE ROUPAS",
         "2024-03-03T09:45:00Z",
         "9999000011112222",
         "PEDRO SANTOS",
         "2023-12-03T09:45:00Z",
         "CORRENTE",
         "2024-02-10T09:45:00Z"
        ],
        [
         "PEDRO",
         "SANTOS",
         35,
         "300",
         "COMPRA DE ROUPAS",
         "2024-05-03T09:45:00Z",
         "9999000011112222",
         "PEDRO SANTOS",
         "2023-12-03T09:45:00Z",
         "CORRENTE",
         "2024-02-10T09:45:00Z"
        ],
        [
         "PEDRO",
         "SANTOS",
         35,
         "180",
         "COMPRA DE ROUPAS",
         "2024-07-03T09:45:00Z",
         "9999000011112222",
         "PEDRO SANTOS",
         "2023-12-03T09:45:00Z",
         "CORRENTE",
         "2024-02-10T09:45:00Z"
        ],
        [
         "MARIANA",
         "BATISTA",
         30,
         "250",
         "TAXA BANCÁRIA",
         "2024-01-20T11:30:00Z",
         "8901890189011234",
         "MARIANA BATISTA",
         "2023-12-20T11:30:00Z",
         "POUPANÇA",
         "2023-05-18T14:15:00Z"
        ],
        [
         "ISABELA",
         "SIQUEIRA",
         34,
         "80",
         "TAXA BANCÁRIA",
         "2024-02-10T10:00:00Z",
         "0011223344556678",
         "ISABELA SIQUEIRA",
         "2024-01-10T13:00:00Z",
         "POUPANÇA",
         "2023-06-15T14:35:00Z"
        ],
        [
         "MARIANA",
         "BATISTA",
         30,
         "131",
         "TAXA BANCÁRIA",
         "2024-03-20T11:30:00Z",
         "8901890189011234",
         "MARIANA BATISTA",
         "2023-12-20T11:30:00Z",
         "POUPANÇA",
         "2023-05-18T14:15:00Z"
        ],
        [
         "ISABELA",
         "SIQUEIRA",
         34,
         "400",
         "TAXA BANCÁRIA",
         "2024-04-10T10:00:00Z",
         "0011223344556678",
         "ISABELA SIQUEIRA",
         "2024-01-10T13:00:00Z",
         "POUPANÇA",
         "2023-06-15T14:35:00Z"
        ],
        [
         "MARIANA",
         "BATISTA",
         30,
         "250",
         "TAXA BANCÁRIA",
         "2024-05-20T11:30:00Z",
         "8901890189011234",
         "MARIANA BATISTA",
         "2023-12-20T11:30:00Z",
         "POUPANÇA",
         "2023-05-18T14:15:00Z"
        ],
        [
         "ISABELA",
         "SIQUEIRA",
         34,
         "300",
         "TAXA BANCÁRIA",
         "2024-06-10T10:00:00Z",
         "0011223344556678",
         "ISABELA SIQUEIRA",
         "2024-01-10T13:00:00Z",
         "POUPANÇA",
         "2023-06-15T14:35:00Z"
        ],
        [
         "MARIANA",
         "BATISTA",
         30,
         "300",
         "TAXA BANCÁRIA",
         "2024-07-20T11:30:00Z",
         "8901890189011234",
         "MARIANA BATISTA",
         "2023-12-20T11:30:00Z",
         "POUPANÇA",
         "2023-05-18T14:15:00Z"
        ],
        [
         "ISABELA",
         "SIQUEIRA",
         34,
         "300",
         "TAXA BANCÁRIA",
         "2024-08-10T10:00:00Z",
         "0011223344556678",
         "ISABELA SIQUEIRA",
         "2024-01-10T13:00:00Z",
         "POUPANÇA",
         "2023-06-15T14:35:00Z"
        ],
        [
         "MANUELA",
         "AGUIAR",
         28,
         "500",
         "JANTAR EM RESTAURANTE",
         "2024-02-18T11:10:00Z",
         "8899001122334457",
         "MANUELA AGUIAR",
         "2024-01-18T15:00:00Z",
         "POUPANÇA",
         "2023-10-05T12:50:00Z"
        ],
        [
         "MANUELA",
         "AGUIAR",
         28,
         "350",
         "JANTAR EM RESTAURANTE",
         "2024-04-18T11:10:00Z",
         "8899001122334457",
         "MANUELA AGUIAR",
         "2024-01-18T15:00:00Z",
         "POUPANÇA",
         "2023-10-05T12:50:00Z"
        ],
        [
         "MANUELA",
         "AGUIAR",
         28,
         "350",
         "JANTAR EM RESTAURANTE",
         "2024-06-18T11:10:00Z",
         "8899001122334457",
         "MANUELA AGUIAR",
         "2024-01-18T15:00:00Z",
         "POUPANÇA",
         "2023-10-05T12:50:00Z"
        ],
        [
         "MANUELA",
         "AGUIAR",
         28,
         "350",
         "JANTAR EM RESTAURANTE",
         "2024-08-18T11:10:00Z",
         "8899001122334457",
         "MANUELA AGUIAR",
         "2024-01-18T15:00:00Z",
         "POUPANÇA",
         "2023-10-05T12:50:00Z"
        ],
        [
         "CARLOS",
         "LIMA",
         40,
         "90",
         "ASSINATURA MENSAL",
         "2024-01-05T16:00:00Z",
         "7777888899990000",
         "CARLOS LIMA",
         "2023-12-05T16:00:00Z",
         "CORRENTE",
         "2024-03-05T16:00:00Z"
        ],
        [
         "CARLOS",
         "LIMA",
         40,
         "130",
         "PAGAMENTO DE CONTA",
         "2024-03-05T16:00:00Z",
         "7777888899990000",
         "CARLOS LIMA",
         "2023-12-05T16:00:00Z",
         "CORRENTE",
         "2024-03-05T16:00:00Z"
        ],
        [
         "CARLOS",
         "LIMA",
         40,
         "250",
         "PAGAMENTO DE CONTA",
         "2024-05-05T16:00:00Z",
         "7777888899990000",
         "CARLOS LIMA",
         "2023-12-05T16:00:00Z",
         "CORRENTE",
         "2024-03-05T16:00:00Z"
        ],
        [
         "CARLOS",
         "LIMA",
         40,
         "150",
         "PAGAMENTO DE CONTA",
         "2024-07-05T16:00:00Z",
         "7777888899990000",
         "CARLOS LIMA",
         "2023-12-05T16:00:00Z",
         "CORRENTE",
         "2024-03-05T16:00:00Z"
        ],
        [
         "RENATO",
         "NOGUEIRA",
         41,
         "150",
         "COMPRA NO SHOPPING",
         "2024-01-19T12:40:00Z",
         "4567456745675678",
         "RENATO NOGUEIRA",
         "2023-12-19T12:40:00Z",
         "CORRENTE",
         "2024-10-10T09:55:00Z"
        ],
        [
         "RENATO",
         "NOGUEIRA",
         41,
         "300",
         "COMPRA NO SHOPPING",
         "2024-03-19T12:40:00Z",
         "4567456745675678",
         "RENATO NOGUEIRA",
         "2023-12-19T12:40:00Z",
         "CORRENTE",
         "2024-10-10T09:55:00Z"
        ],
        [
         "RENATO",
         "NOGUEIRA",
         41,
         "200",
         "COMPRA NO SHOPPING",
         "2024-05-19T12:40:00Z",
         "4567456745675678",
         "RENATO NOGUEIRA",
         "2023-12-19T12:40:00Z",
         "CORRENTE",
         "2024-10-10T09:55:00Z"
        ],
        [
         "RENATO",
         "NOGUEIRA",
         41,
         "250",
         "COMPRA NO SHOPPING",
         "2024-07-19T12:40:00Z",
         "4567456745675678",
         "RENATO NOGUEIRA",
         "2023-12-19T12:40:00Z",
         "CORRENTE",
         "2024-10-10T09:55:00Z"
        ],
        [
         "MAURÍCIO",
         "MACHADO",
         42,
         "130",
         "COMPRA SUPERMERCADO",
         "2024-02-11T16:45:00Z",
         "1122334455667780",
         "MAURÍCIO MACHADO",
         "2024-01-11T12:00:00Z",
         "CORRENTE",
         "2024-02-20T08:30:00Z"
        ],
        [
         "MAURÍCIO",
         "MACHADO",
         42,
         "150",
         "COMPRA SUPERMERCADO",
         "2024-04-11T16:45:00Z",
         "1122334455667780",
         "MAURÍCIO MACHADO",
         "2024-01-11T12:00:00Z",
         "CORRENTE",
         "2024-02-20T08:30:00Z"
        ],
        [
         "MAURÍCIO",
         "MACHADO",
         42,
         "400",
         "COMPRA SUPERMERCADO",
         "2024-06-11T16:45:00Z",
         "1122334455667780",
         "MAURÍCIO MACHADO",
         "2024-01-11T12:00:00Z",
         "CORRENTE",
         "2024-02-20T08:30:00Z"
        ],
        [
         "MAURÍCIO",
         "MACHADO",
         42,
         "400",
         "COMPRA SUPERMERCADO",
         "2024-08-11T16:45:00Z",
         "1122334455667780",
         "MAURÍCIO MACHADO",
         "2024-01-11T12:00:00Z",
         "CORRENTE",
         "2024-02-20T08:30:00Z"
        ],
        [
         "FELIPE",
         "ARAÚJO",
         42,
         "60",
         "PAGAMENTO DE CONTA",
         "2024-01-15T14:40:00Z",
         "7890789078905678",
         "FELIPE ARAÚJO",
         "2023-12-15T14:40:00Z",
         "CORRENTE",
         "2024-08-21T08:40:00Z"
        ],
        [
         "BRUNO",
         "TAVARES",
         33,
         "60",
         "COMPRA DE ROUPAS",
         "2024-02-13T14:30:00Z",
         "3344556677889902",
         "BRUNO TAVARES",
         "2024-01-13T10:10:00Z",
         "CORRENTE",
         "2024-03-25T11:05:00Z"
        ],
        [
         "FELIPE",
         "ARAÚJO",
         42,
         "151",
         "PAGAMENTO DE CONTA",
         "2024-03-15T14:40:00Z",
         "7890789078905678",
         "FELIPE ARAÚJO",
         "2023-12-15T14:40:00Z",
         "CORRENTE",
         "2024-08-21T08:40:00Z"
        ],
        [
         "BRUNO",
         "TAVARES",
         33,
         "60",
         "COMPRA DE ROUPAS",
         "2024-04-13T14:30:00Z",
         "3344556677889902",
         "BRUNO TAVARES",
         "2024-01-13T10:10:00Z",
         "CORRENTE",
         "2024-03-25T11:05:00Z"
        ],
        [
         "FELIPE",
         "ARAÚJO",
         42,
         "250",
         "PAGAMENTO DE CONTA",
         "2024-05-15T14:40:00Z",
         "7890789078905678",
         "FELIPE ARAÚJO",
         "2023-12-15T14:40:00Z",
         "CORRENTE",
         "2024-08-21T08:40:00Z"
        ],
        [
         "BRUNO",
         "TAVARES",
         33,
         "180",
         "COMPRA DE ROUPAS",
         "2024-06-13T14:30:00Z",
         "3344556677889902",
         "BRUNO TAVARES",
         "2024-01-13T10:10:00Z",
         "CORRENTE",
         "2024-03-25T11:05:00Z"
        ],
        [
         "FELIPE",
         "ARAÚJO",
         42,
         "320",
         "PAGAMENTO DE CONTA",
         "2024-07-15T14:40:00Z",
         "7890789078905678",
         "FELIPE ARAÚJO",
         "2023-12-15T14:40:00Z",
         "CORRENTE",
         "2024-08-21T08:40:00Z"
        ],
        [
         "BRUNO",
         "TAVARES",
         33,
         "180",
         "COMPRA DE ROUPAS",
         "2024-08-13T14:30:00Z",
         "3344556677889902",
         "BRUNO TAVARES",
         "2024-01-13T10:10:00Z",
         "CORRENTE",
         "2024-03-25T11:05:00Z"
        ],
        [
         "MARCELO",
         "MOURA",
         41,
         "250",
         "COMPRA ONLINE",
         "2024-02-07T13:00:00Z",
         "7788990011223345",
         "MARCELO MOURA",
         "2024-01-07T15:30:00Z",
         "CORRENTE",
         "2024-09-05T09:15:00Z"
        ],
        [
         "MARCELO",
         "MOURA",
         41,
         "250",
         "COMPRA ONLINE",
         "2024-04-07T13:00:00Z",
         "7788990011223345",
         "MARCELO MOURA",
         "2024-01-07T15:30:00Z",
         "CORRENTE",
         "2024-09-05T09:15:00Z"
        ],
        [
         "MARCELO",
         "MOURA",
         41,
         "350",
         "COMPRA ONLINE",
         "2024-06-07T13:00:00Z",
         "7788990011223345",
         "MARCELO MOURA",
         "2024-01-07T15:30:00Z",
         "CORRENTE",
         "2024-09-05T09:15:00Z"
        ],
        [
         "MARCELO",
         "MOURA",
         41,
         "250",
         "COMPRA ONLINE",
         "2024-08-07T13:00:00Z",
         "7788990011223345",
         "MARCELO MOURA",
         "2024-01-07T15:30:00Z",
         "CORRENTE",
         "2024-09-05T09:15:00Z"
        ],
        [
         "PAULO",
         "FERREIRA",
         45,
         "200",
         "JANTAR EM RESTAURANTE",
         "2024-01-09T12:25:00Z",
         "8888999900001111",
         "PAULO FERREIRA",
         "2023-12-09T12:25:00Z",
         "CORRENTE",
         "2024-05-18T12:25:00Z"
        ],
        [
         "TIAGO",
         "FARIAS",
         37,
         "300",
         "COMPRA ONLINE",
         "2024-01-17T10:10:00Z",
         "6789678967895678",
         "TIAGO FARIAS",
         "2023-12-17T10:10:00Z",
         "CORRENTE",
         "2024-09-15T13:00:00Z"
        ],
        [
         "PAULO",
         "FERREIRA",
         45,
         "121",
         "COMPRA NO SHOPPING",
         "2024-03-09T12:25:00Z",
         "8888999900001111",
         "PAULO FERREIRA",
         "2023-12-09T12:25:00Z",
         "CORRENTE",
         "2024-05-18T12:25:00Z"
        ],
        [
         "TIAGO",
         "FARIAS",
         37,
         "200",
         "COMPRA ONLINE",
         "2024-03-17T10:10:00Z",
         "6789678967895678",
         "TIAGO FARIAS",
         "2023-12-17T10:10:00Z",
         "CORRENTE",
         "2024-09-15T13:00:00Z"
        ],
        [
         "PAULO",
         "FERREIRA",
         45,
         "130",
         "COMPRA NO SHOPPING",
         "2024-05-09T12:25:00Z",
         "8888999900001111",
         "PAULO FERREIRA",
         "2023-12-09T12:25:00Z",
         "CORRENTE",
         "2024-05-18T12:25:00Z"
        ],
        [
         "TIAGO",
         "FARIAS",
         37,
         "320",
         "COMPRA ONLINE",
         "2024-05-17T10:10:00Z",
         "6789678967895678",
         "TIAGO FARIAS",
         "2023-12-17T10:10:00Z",
         "CORRENTE",
         "2024-09-15T13:00:00Z"
        ],
        [
         "PAULO",
         "FERREIRA",
         45,
         "140",
         "COMPRA NO SHOPPING",
         "2024-07-09T12:25:00Z",
         "8888999900001111",
         "PAULO FERREIRA",
         "2023-12-09T12:25:00Z",
         "CORRENTE",
         "2024-05-18T12:25:00Z"
        ],
        [
         "TIAGO",
         "FARIAS",
         37,
         "150",
         "COMPRA ONLINE",
         "2024-07-17T10:10:00Z",
         "6789678967895678",
         "TIAGO FARIAS",
         "2023-12-17T10:10:00Z",
         "CORRENTE",
         "2024-09-15T13:00:00Z"
        ],
        [
         "SÉRGIO",
         "MORAIS",
         45,
         "200",
         "PAGAMENTO DE CONTA",
         "2024-02-05T12:30:00Z",
         "5566778899001123",
         "SÉRGIO MORAIS",
         "2024-01-05T10:10:00Z",
         "CORRENTE",
         "2024-08-15T13:50:00Z"
        ],
        [
         "SÉRGIO",
         "MORAIS",
         45,
         "220",
         "PAGAMENTO DE CONTA",
         "2024-04-05T12:30:00Z",
         "5566778899001123",
         "SÉRGIO MORAIS",
         "2024-01-05T10:10:00Z",
         "CORRENTE",
         "2024-08-15T13:50:00Z"
        ],
        [
         "SÉRGIO",
         "MORAIS",
         45,
         "230",
         "PAGAMENTO DE CONTA",
         "2024-06-05T12:30:00Z",
         "5566778899001123",
         "SÉRGIO MORAIS",
         "2024-01-05T10:10:00Z",
         "CORRENTE",
         "2024-08-15T13:50:00Z"
        ],
        [
         "SÉRGIO",
         "MORAIS",
         45,
         "220",
         "PAGAMENTO DE CONTA",
         "2024-08-05T12:30:00Z",
         "5566778899001123",
         "SÉRGIO MORAIS",
         "2024-01-05T10:10:00Z",
         "CORRENTE",
         "2024-08-15T13:50:00Z"
        ],
        [
         "ANA",
         "SOUZA",
         26,
         "121",
         "COMPRA DE ROUPAS",
         "2024-01-04T11:20:00Z",
         "3333444455556666",
         "ANA SOUZA",
         "2023-12-04T11:20:00Z",
         "POUPANÇA",
         "2023-08-20T11:20:00Z"
        ],
        [
         "ANA",
         "SOUZA",
         26,
         "75",
         "ASSINATURA MENSAL",
         "2024-03-04T11:20:00Z",
         "3333444455556666",
         "ANA SOUZA",
         "2023-12-04T11:20:00Z",
         "POUPANÇA",
         "2023-08-20T11:20:00Z"
        ],
        [
         "ANA",
         "SOUZA",
         26,
         "110",
         "ASSINATURA MENSAL",
         "2024-05-04T11:20:00Z",
         "3333444455556666",
         "ANA SOUZA",
         "2023-12-04T11:20:00Z",
         "POUPANÇA",
         "2023-08-20T11:20:00Z"
        ],
        [
         "ANA",
         "SOUZA",
         26,
         "300",
         "ASSINATURA MENSAL",
         "2024-07-04T11:20:00Z",
         "3333444455556666",
         "ANA SOUZA",
         "2023-12-04T11:20:00Z",
         "POUPANÇA",
         "2023-08-20T11:20:00Z"
        ],
        [
         "FERNANDA",
         "COSTA",
         27,
         "150",
         "COMPRA NO SHOPPING",
         "2024-01-08T15:35:00Z",
         "0000111122223333",
         "FERNANDA COSTA",
         "2023-12-08T15:35:00Z",
         "POUPANÇA",
         "2023-09-30T10:50:00Z"
        ],
        [
         "FERNANDA",
         "COSTA",
         27,
         "200",
         "JANTAR EM RESTAURANTE",
         "2024-03-08T15:35:00Z",
         "0000111122223333",
         "FERNANDA COSTA",
         "2023-12-08T15:35:00Z",
         "POUPANÇA",
         "2023-09-30T10:50:00Z"
        ],
        [
         "FERNANDA",
         "COSTA",
         27,
         "200",
         "JANTAR EM RESTAURANTE",
         "2024-05-08T15:35:00Z",
         "0000111122223333",
         "FERNANDA COSTA",
         "2023-12-08T15:35:00Z",
         "POUPANÇA",
         "2023-09-30T10:50:00Z"
        ],
        [
         "FERNANDA",
         "COSTA",
         27,
         "230",
         "JANTAR EM RESTAURANTE",
         "2024-07-08T15:35:00Z",
         "0000111122223333",
         "FERNANDA COSTA",
         "2023-12-08T15:35:00Z",
         "POUPANÇA",
         "2023-09-30T10:50:00Z"
        ],
        [
         "ANDRÉ",
         "ROCHA",
         35,
         "75",
         "COMPRA DE ROUPAS",
         "2024-01-23T13:30:00Z",
         "3344556677889900",
         "ANDRÉ ROCHA",
         "2023-12-23T13:30:00Z",
         "CORRENTE",
         "2024-02-25T08:20:00Z"
        ],
        [
         "RAFAEL",
         "SILVEIRA",
         38,
         "150",
         "COMPRA NO SHOPPING",
         "2024-02-09T14:30:00Z",
         "9900112233445567",
         "RAFAEL SILVEIRA",
         "2024-01-09T16:20:00Z",
         "CORRENTE",
         "2024-01-18T10:20:00Z"
        ],
        [
         "ANDRÉ",
         "ROCHA",
         35,
         "180",
         "COMPRA DE ROUPAS",
         "2024-03-23T13:30:00Z",
         "3344556677889900",
         "ANDRÉ ROCHA",
         "2023-12-23T13:30:00Z",
         "CORRENTE",
         "2024-02-25T08:20:00Z"
        ],
        [
         "RAFAEL",
         "SILVEIRA",
         38,
         "300",
         "COMPRA NO SHOPPING",
         "2024-04-09T14:30:00Z",
         "9900112233445567",
         "RAFAEL SILVEIRA",
         "2024-01-09T16:20:00Z",
         "CORRENTE",
         "2024-01-18T10:20:00Z"
        ],
        [
         "ANDRÉ",
         "ROCHA",
         35,
         "150",
         "COMPRA DE ROUPAS",
         "2024-05-23T13:30:00Z",
         "3344556677889900",
         "ANDRÉ ROCHA",
         "2023-12-23T13:30:00Z",
         "CORRENTE",
         "2024-02-25T08:20:00Z"
        ],
        [
         "RAFAEL",
         "SILVEIRA",
         38,
         "250",
         "COMPRA NO SHOPPING",
         "2024-06-09T14:30:00Z",
         "9900112233445567",
         "RAFAEL SILVEIRA",
         "2024-01-09T16:20:00Z",
         "CORRENTE",
         "2024-01-18T10:20:00Z"
        ],
        [
         "ANDRÉ",
         "ROCHA",
         35,
         "180",
         "COMPRA DE ROUPAS",
         "2024-07-23T13:30:00Z",
         "3344556677889900",
         "ANDRÉ ROCHA",
         "2023-12-23T13:30:00Z",
         "CORRENTE",
         "2024-02-25T08:20:00Z"
        ],
        [
         "RAFAEL",
         "SILVEIRA",
         38,
         "270",
         "COMPRA NO SHOPPING",
         "2024-08-09T14:30:00Z",
         "9900112233445567",
         "RAFAEL SILVEIRA",
         "2024-01-09T16:20:00Z",
         "CORRENTE",
         "2024-01-18T10:20:00Z"
        ],
        [
         "CLÁUDIO",
         "GUIMARÃES",
         39,
         "600",
         "COMPRA NO SHOPPING",
         "2024-02-19T15:30:00Z",
         "9900112233445568",
         "CLÁUDIO GUIMARÃES",
         "2024-01-19T12:00:00Z",
         "CORRENTE",
         "2024-06-10T14:45:00Z"
        ],
        [
         "CLÁUDIO",
         "GUIMARÃES",
         39,
         "400",
         "COMPRA NO SHOPPING",
         "2024-04-19T15:30:00Z",
         "9900112233445568",
         "CLÁUDIO GUIMARÃES",
         "2024-01-19T12:00:00Z",
         "CORRENTE",
         "2024-06-10T14:45:00Z"
        ],
        [
         "CLÁUDIO",
         "GUIMARÃES",
         39,
         "400",
         "COMPRA NO SHOPPING",
         "2024-06-19T15:30:00Z",
         "9900112233445568",
         "CLÁUDIO GUIMARÃES",
         "2024-01-19T12:00:00Z",
         "CORRENTE",
         "2024-06-10T14:45:00Z"
        ],
        [
         "CLÁUDIO",
         "GUIMARÃES",
         39,
         "400",
         "COMPRA NO SHOPPING",
         "2024-08-19T15:30:00Z",
         "9900112233445568",
         "CLÁUDIO GUIMARÃES",
         "2024-01-19T12:00:00Z",
         "CORRENTE",
         "2024-06-10T14:45:00Z"
        ],
        [
         "RICARDO",
         "PEREIRA",
         38,
         "46",
         "GASOLINA",
         "2024-01-07T10:50:00Z",
         "6666777788889999",
         "RICARDO PEREIRA",
         "2023-12-07T10:50:00Z",
         "CORRENTE",
         "2024-04-12T13:15:00Z"
        ],
        [
         "RICARDO",
         "PEREIRA",
         38,
         "60",
         "GASOLINA",
         "2024-03-07T10:50:00Z",
         "6666777788889999",
         "RICARDO PEREIRA",
         "2023-12-07T10:50:00Z",
         "CORRENTE",
         "2024-04-12T13:15:00Z"
        ],
        [
         "RICARDO",
         "PEREIRA",
         38,
         "90",
         "GASOLINA",
         "2024-05-07T10:50:00Z",
         "6666777788889999",
         "RICARDO PEREIRA",
         "2023-12-07T10:50:00Z",
         "CORRENTE",
         "2024-04-12T13:15:00Z"
        ],
        [
         "RICARDO",
         "PEREIRA",
         38,
         "90",
         "GASOLINA",
         "2024-07-07T10:50:00Z",
         "6666777788889999",
         "RICARDO PEREIRA",
         "2023-12-07T10:50:00Z",
         "CORRENTE",
         "2024-04-12T13:15:00Z"
        ],
        [
         "AUGUSTO",
         "ANDRADE",
         37,
         "350",
         "COMPRA SUPERMERCADO",
         "2024-02-21T13:00:00Z",
         "1122334455667781",
         "AUGUSTO ANDRADE",
         "2024-01-21T10:30:00Z",
         "CORRENTE",
         "2024-10-17T18:45:00Z"
        ],
        [
         "AUGUSTO",
         "ANDRADE",
         37,
         "350",
         "COMPRA SUPERMERCADO",
         "2024-04-21T13:00:00Z",
         "1122334455667781",
         "AUGUSTO ANDRADE",
         "2024-01-21T10:30:00Z",
         "CORRENTE",
         "2024-10-17T18:45:00Z"
        ],
        [
         "AUGUSTO",
         "ANDRADE",
         37,
         "300",
         "COMPRA SUPERMERCADO",
         "2024-06-21T13:00:00Z",
         "1122334455667781",
         "AUGUSTO ANDRADE",
         "2024-01-21T10:30:00Z",
         "CORRENTE",
         "2024-10-17T18:45:00Z"
        ],
        [
         "AUGUSTO",
         "ANDRADE",
         37,
         "350",
         "COMPRA SUPERMERCADO",
         "2024-08-21T13:00:00Z",
         "1122334455667781",
         "AUGUSTO ANDRADE",
         "2024-01-21T10:30:00Z",
         "CORRENTE",
         "2024-10-17T18:45:00Z"
        ],
        [
         "ALINE",
         "RIBEIRO",
         29,
         "50",
         "TAXA BANCÁRIA",
         "2024-01-10T08:10:00Z",
         "4444555566667777",
         "ALINE RIBEIRO",
         "2023-12-10T08:10:00Z",
         "POUPANÇA",
         "2023-07-10T15:35:00Z"
        ],
        [
         "ALINE",
         "RIBEIRO",
         29,
         "40",
         "TAXA BANCÁRIA",
         "2024-03-10T08:10:00Z",
         "4444555566667777",
         "ALINE RIBEIRO",
         "2023-12-10T08:10:00Z",
         "POUPANÇA",
         "2023-07-10T15:35:00Z"
        ],
        [
         "ALINE",
         "RIBEIRO",
         29,
         "50",
         "TAXA BANCÁRIA",
         "2024-05-10T08:10:00Z",
         "4444555566667777",
         "ALINE RIBEIRO",
         "2023-12-10T08:10:00Z",
         "POUPANÇA",
         "2023-07-10T15:35:00Z"
        ],
        [
         "ALINE",
         "RIBEIRO",
         29,
         "50",
         "TAXA BANCÁRIA",
         "2024-07-10T08:10:00Z",
         "4444555566667777",
         "ALINE RIBEIRO",
         "2023-12-10T08:10:00Z",
         "POUPANÇA",
         "2023-07-10T15:35:00Z"
        ],
        [
         "SOFIA",
         "BORGES",
         24,
         "200",
         "TAXA BANCÁRIA",
         "2024-02-20T09:30:00Z",
         "0011223344556679",
         "SOFIA BORGES",
         "2024-01-20T13:00:00Z",
         "POUPANÇA",
         "2023-11-15T09:55:00Z"
        ],
        [
         "SOFIA",
         "BORGES",
         24,
         "200",
         "TAXA BANCÁRIA",
         "2024-04-20T09:30:00Z",
         "0011223344556679",
         "SOFIA BORGES",
         "2024-01-20T13:00:00Z",
         "POUPANÇA",
         "2023-11-15T09:55:00Z"
        ],
        [
         "SOFIA",
         "BORGES",
         24,
         "250",
         "TAXA BANCÁRIA",
         "2024-06-20T09:30:00Z",
         "0011223344556679",
         "SOFIA BORGES",
         "2024-01-20T13:00:00Z",
         "POUPANÇA",
         "2023-11-15T09:55:00Z"
        ],
        [
         "SOFIA",
         "BORGES",
         24,
         "300",
         "TAXA BANCÁRIA",
         "2024-08-20T09:30:00Z",
         "0011223344556679",
         "SOFIA BORGES",
         "2024-01-20T13:00:00Z",
         "POUPANÇA",
         "2023-11-15T09:55:00Z"
        ],
        [
         "JOSÉ",
         "MOREIRA",
         30,
         "100",
         "PAGAMENTO DE CONTA",
         "2024-02-15T13:20:00Z",
         "5566778899001124",
         "JOSÉ MOREIRA",
         "2024-01-15T11:20:00Z",
         "CORRENTE",
         "2024-04-15T09:50:00Z"
        ],
        [
         "JOSÉ",
         "MOREIRA",
         30,
         "220",
         "PAGAMENTO DE CONTA",
         "2024-04-15T13:20:00Z",
         "5566778899001124",
         "JOSÉ MOREIRA",
         "2024-01-15T11:20:00Z",
         "CORRENTE",
         "2024-04-15T09:50:00Z"
        ],
        [
         "JOSÉ",
         "MOREIRA",
         30,
         "230",
         "PAGAMENTO DE CONTA",
         "2024-06-15T13:20:00Z",
         "5566778899001124",
         "JOSÉ MOREIRA",
         "2024-01-15T11:20:00Z",
         "CORRENTE",
         "2024-04-15T09:50:00Z"
        ],
        [
         "JOSÉ",
         "MOREIRA",
         30,
         "220",
         "PAGAMENTO DE CONTA",
         "2024-08-15T13:20:00Z",
         "5566778899001124",
         "JOSÉ MOREIRA",
         "2024-01-15T11:20:00Z",
         "CORRENTE",
         "2024-04-15T09:50:00Z"
        ],
        [
         "LUANA",
         "XAVIER",
         27,
         "100",
         "JANTAR EM RESTAURANTE",
         "2024-02-08T15:00:00Z",
         "8899001122334456",
         "LUANA XAVIER",
         "2024-01-08T14:40:00Z",
         "POUPANÇA",
         "2023-05-22T17:05:00Z"
        ],
        [
         "LUANA",
         "XAVIER",
         27,
         "180",
         "JANTAR EM RESTAURANTE",
         "2024-04-08T15:00:00Z",
         "8899001122334456",
         "LUANA XAVIER",
         "2024-01-08T14:40:00Z",
         "POUPANÇA",
         "2023-05-22T17:05:00Z"
        ],
        [
         "LUANA",
         "XAVIER",
         27,
         "220",
         "JANTAR EM RESTAURANTE",
         "2024-06-08T15:00:00Z",
         "8899001122334456",
         "LUANA XAVIER",
         "2024-01-08T14:40:00Z",
         "POUPANÇA",
         "2023-05-22T17:05:00Z"
        ],
        [
         "LUANA",
         "XAVIER",
         27,
         "220",
         "JANTAR EM RESTAURANTE",
         "2024-08-08T15:00:00Z",
         "8899001122334456",
         "LUANA XAVIER",
         "2024-01-08T14:40:00Z",
         "POUPANÇA",
         "2023-05-22T17:05:00Z"
        ],
        [
         "LEANDRO",
         "PINTO",
         39,
         "220",
         "PAGAMENTO DE CONTA",
         "2024-01-25T14:00:00Z",
         "5566778899001122",
         "LEANDRO PINTO",
         "2023-12-25T14:00:00Z",
         "CORRENTE",
         "2024-03-12T11:10:00Z"
        ],
        [
         "LEANDRO",
         "PINTO",
         39,
         "150",
         "PAGAMENTO DE CONTA",
         "2024-03-25T14:00:00Z",
         "5566778899001122",
         "LEANDRO PINTO",
         "2023-12-25T14:00:00Z",
         "CORRENTE",
         "2024-03-12T11:10:00Z"
        ],
        [
         "LEANDRO",
         "PINTO",
         39,
         "220",
         "PAGAMENTO DE CONTA",
         "2024-05-25T14:00:00Z",
         "5566778899001122",
         "LEANDRO PINTO",
         "2023-12-25T14:00:00Z",
         "CORRENTE",
         "2024-03-12T11:10:00Z"
        ],
        [
         "LEANDRO",
         "PINTO",
         39,
         "250",
         "PAGAMENTO DE CONTA",
         "2024-07-25T14:00:00Z",
         "5566778899001122",
         "LEANDRO PINTO",
         "2023-12-25T14:00:00Z",
         "CORRENTE",
         "2024-03-12T11:10:00Z"
        ],
        [
         "NATÁLIA",
         "DIAS",
         26,
         "120",
         "ASSINATURA MENSAL",
         "2024-01-24T15:10:00Z",
         "4455667788990011",
         "NATÁLIA DIAS",
         "2023-12-24T15:10:00Z",
         "POUPANÇA",
         "2023-07-05T17:50:00Z"
        ],
        [
         "NATÁLIA",
         "DIAS",
         26,
         "75",
         "ASSINATURA MENSAL",
         "2024-03-24T15:10:00Z",
         "4455667788990011",
         "NATÁLIA DIAS",
         "2023-12-24T15:10:00Z",
         "POUPANÇA",
         "2023-07-05T17:50:00Z"
        ],
        [
         "NATÁLIA",
         "DIAS",
         26,
         "100",
         "ASSINATURA MENSAL",
         "2024-05-24T15:10:00Z",
         "4455667788990011",
         "NATÁLIA DIAS",
         "2023-12-24T15:10:00Z",
         "POUPANÇA",
         "2023-07-05T17:50:00Z"
        ],
        [
         "NATÁLIA",
         "DIAS",
         26,
         "90",
         "ASSINATURA MENSAL",
         "2024-07-24T15:10:00Z",
         "4455667788990011",
         "NATÁLIA DIAS",
         "2023-12-24T15:10:00Z",
         "POUPANÇA",
         "2023-07-05T17:50:00Z"
        ],
        [
         "EDUARDO",
         "VIEIRA",
         36,
         "250",
         "COMPRA NO SHOPPING",
         "2024-01-29T16:00:00Z",
         "9900112233445566",
         "EDUARDO VIEIRA",
         "2023-12-29T14:30:00Z",
         "CORRENTE",
         "2024-05-05T10:50:00Z"
        ],
        [
         "EDUARDO",
         "VIEIRA",
         36,
         "250",
         "COMPRA NO SHOPPING",
         "2024-03-29T14:30:00Z",
         "9900112233445566",
         "EDUARDO VIEIRA",
         "2023-12-29T14:30:00Z",
         "CORRENTE",
         "2024-05-05T10:50:00Z"
        ],
        [
         "EDUARDO",
         "VIEIRA",
         36,
         "220",
         "COMPRA NO SHOPPING",
         "2024-05-29T14:30:00Z",
         "9900112233445566",
         "EDUARDO VIEIRA",
         "2023-12-29T14:30:00Z",
         "CORRENTE",
         "2024-05-05T10:50:00Z"
        ],
        [
         "EDUARDO",
         "VIEIRA",
         36,
         "250",
         "COMPRA NO SHOPPING",
         "2024-07-29T14:30:00Z",
         "9900112233445566",
         "EDUARDO VIEIRA",
         "2023-12-29T14:30:00Z",
         "CORRENTE",
         "2024-05-05T10:50:00Z"
        ],
        [
         "GUILHERME",
         "TEIXEIRA",
         28,
         "100",
         "COMPRA SUPERMERCADO",
         "2024-01-21T14:00:00Z",
         "1122334455667788",
         "GUILHERME TEIXEIRA",
         "2023-12-21T14:00:00Z",
         "CORRENTE",
         "2024-01-15T10:30:00Z"
        ],
        [
         "GUILHERME",
         "TEIXEIRA",
         28,
         "111",
         "COMPRA SUPERMERCADO",
         "2024-03-21T14:00:00Z",
         "1122334455667788",
         "GUILHERME TEIXEIRA",
         "2023-12-21T14:00:00Z",
         "CORRENTE",
         "2024-01-15T10:30:00Z"
        ],
        [
         "GUILHERME",
         "TEIXEIRA",
         28,
         "190",
         "COMPRA SUPERMERCADO",
         "2024-05-21T14:00:00Z",
         "1122334455667788",
         "GUILHERME TEIXEIRA",
         "2023-12-21T14:00:00Z",
         "CORRENTE",
         "2024-01-15T10:30:00Z"
        ],
        [
         "GUILHERME",
         "TEIXEIRA",
         28,
         "220",
         "COMPRA SUPERMERCADO",
         "2024-07-21T14:00:00Z",
         "1122334455667788",
         "GUILHERME TEIXEIRA",
         "2023-12-21T14:00:00Z",
         "CORRENTE",
         "2024-01-15T10:30:00Z"
        ],
        [
         "AMANDA",
         "CAMPOS",
         29,
         "125",
         "COMPRA ELETRÔNICOS",
         "2024-02-02T09:20:00Z",
         "2233445566778890",
         "AMANDA CAMPOS",
         "2024-01-02T12:00:00Z",
         "POUPANÇA",
         "2023-11-15T09:25:00Z"
        ],
        [
         "AMANDA",
         "CAMPOS",
         29,
         "130",
         "COMPRA ELETRÔNICOS",
         "2024-04-02T09:20:00Z",
         "2233445566778890",
         "AMANDA CAMPOS",
         "2024-01-02T12:00:00Z",
         "POUPANÇA",
         "2023-11-15T09:25:00Z"
        ],
        [
         "AMANDA",
         "CAMPOS",
         29,
         "210",
         "COMPRA ELETRÔNICOS",
         "2024-06-02T09:20:00Z",
         "2233445566778890",
         "AMANDA CAMPOS",
         "2024-01-02T12:00:00Z",
         "POUPANÇA",
         "2023-11-15T09:25:00Z"
        ],
        [
         "AMANDA",
         "CAMPOS",
         29,
         "200",
         "COMPRA ELETRÔNICOS",
         "2024-08-02T09:20:00Z",
         "2233445566778890",
         "AMANDA CAMPOS",
         "2024-01-02T12:00:00Z",
         "POUPANÇA",
         "2023-11-15T09:25:00Z"
        ],
        [
         "LUCAS",
         "MARTINS",
         33,
         "180",
         "COMPRA SUPERMERCADO",
         "2024-01-11T13:30:00Z",
         "1234123412341234",
         "LUCAS MARTINS",
         "2023-12-11T13:30:00Z",
         "CORRENTE",
         "2024-06-22T09:05:00Z"
        ],
        [
         "FÁBIO",
         "FREITAS",
         40,
         "90",
         "COMPRA DE ROUPAS",
         "2024-02-03T11:45:00Z",
         "3344556677889901",
         "FÁBIO FREITAS",
         "2024-01-03T11:20:00Z",
         "CORRENTE",
         "2024-07-10T08:45:00Z"
        ],
        [
         "LUCAS",
         "MARTINS",
         33,
         "220",
         "COMPRA SUPERMERCADO",
         "2024-03-11T13:30:00Z",
         "1234123412341234",
         "LUCAS MARTINS",
         "2023-12-11T13:30:00Z",
         "CORRENTE",
         "2024-06-22T09:05:00Z"
        ],
        [
         "FÁBIO",
         "FREITAS",
         40,
         "100",
         "COMPRA DE ROUPAS",
         "2024-04-03T11:45:00Z",
         "3344556677889901",
         "FÁBIO FREITAS",
         "2024-01-03T11:20:00Z",
         "CORRENTE",
         "2024-07-10T08:45:00Z"
        ],
        [
         "LUCAS",
         "MARTINS",
         33,
         "175",
         "COMPRA SUPERMERCADO",
         "2024-05-11T13:30:00Z",
         "1234123412341234",
         "LUCAS MARTINS",
         "2023-12-11T13:30:00Z",
         "CORRENTE",
         "2024-06-22T09:05:00Z"
        ],
        [
         "FÁBIO",
         "FREITAS",
         40,
         "100",
         "COMPRA DE ROUPAS",
         "2024-06-03T11:45:00Z",
         "3344556677889901",
         "FÁBIO FREITAS",
         "2024-01-03T11:20:00Z",
         "CORRENTE",
         "2024-07-10T08:45:00Z"
        ],
        [
         "LUCAS",
         "MARTINS",
         33,
         "300",
         "COMPRA SUPERMERCADO",
         "2024-07-11T13:30:00Z",
         "1234123412341234",
         "LUCAS MARTINS",
         "2023-12-11T13:30:00Z",
         "CORRENTE",
         "2024-06-22T09:05:00Z"
        ],
        [
         "FÁBIO",
         "FREITAS",
         40,
         "90",
         "COMPRA DE ROUPAS",
         "2024-08-03T11:45:00Z",
         "3344556677889901",
         "FÁBIO FREITAS",
         "2024-01-03T11:20:00Z",
         "CORRENTE",
         "2024-07-10T08:45:00Z"
        ],
        [
         "BIANCA",
         "CARVALHO",
         31,
         "190",
         "ASSINATURA MENSAL",
         "2024-01-14T12:30:00Z",
         "3456345634561234",
         "BIANCA CARVALHO",
         "2023-12-14T12:30:00Z",
         "POUPANÇA",
         "2023-10-14T14:50:00Z"
        ],
        [
         "BIANCA",
         "CARVALHO",
         31,
         "300",
         "ASSINATURA MENSAL",
         "2024-03-14T12:30:00Z",
         "3456345634561234",
         "BIANCA CARVALHO",
         "2023-12-14T12:30:00Z",
         "POUPANÇA",
         "2023-10-14T14:50:00Z"
        ],
        [
         "BIANCA",
         "CARVALHO",
         31,
         "170",
         "ASSINATURA MENSAL",
         "2024-05-14T12:30:00Z",
         "3456345634561234",
         "BIANCA CARVALHO",
         "2023-12-14T12:30:00Z",
         "POUPANÇA",
         "2023-10-14T14:50:00Z"
        ],
        [
         "BIANCA",
         "CARVALHO",
         31,
         "230",
         "ASSINATURA MENSAL",
         "2024-07-14T12:30:00Z",
         "3456345634561234",
         "BIANCA CARVALHO",
         "2023-12-14T12:30:00Z",
         "POUPANÇA",
         "2023-10-14T14:50:00Z"
        ],
        [
         "CARLA",
         "FERNANDES",
         29,
         "220",
         "COMPRA ELETRÔNICOS",
         "2024-02-12T11:15:00Z",
         "2233445566778891",
         "CARLA FERNANDES",
         "2024-01-12T14:20:00Z",
         "POUPANÇA",
         "2023-07-10T16:10:00Z"
        ],
        [
         "CARLA",
         "FERNANDES",
         29,
         "200",
         "COMPRA ELETRÔNICOS",
         "2024-04-12T11:15:00Z",
         "2233445566778891",
         "CARLA FERNANDES",
         "2024-01-12T14:20:00Z",
         "POUPANÇA",
         "2023-07-10T16:10:00Z"
        ],
        [
         "CARLA",
         "FERNANDES",
         29,
         "500",
         "COMPRA ELETRÔNICOS",
         "2024-06-12T11:15:00Z",
         "2233445566778891",
         "CARLA FERNANDES",
         "2024-01-12T14:20:00Z",
         "POUPANÇA",
         "2023-07-10T16:10:00Z"
        ],
        [
         "CARLA",
         "FERNANDES",
         29,
         "350",
         "COMPRA ELETRÔNICOS",
         "2024-08-12T11:15:00Z",
         "2233445566778891",
         "CARLA FERNANDES",
         "2024-01-12T14:20:00Z",
         "POUPANÇA",
         "2023-07-10T16:10:00Z"
        ],
        [
         "MARIA",
         "OLIVEIRA",
         28,
         "250",
         "COMPRA ELETRÔNICOS",
         "2024-01-02T14:30:00Z",
         "5555666677778888",
         "MARIA OLIVEIRA",
         "2023-12-02T14:30:00Z",
         "POUPANÇA",
         "2023-05-15T14:30:00Z"
        ],
        [
         "MARIA",
         "OLIVEIRA",
         28,
         "91",
         "COMPRA ELETRÔNICOS",
         "2024-03-02T14:30:00Z",
         "5555666677778888",
         "MARIA OLIVEIRA",
         "2023-12-02T14:30:00Z",
         "POUPANÇA",
         "2023-05-15T14:30:00Z"
        ],
        [
         "MARIA",
         "OLIVEIRA",
         28,
         "150",
         "COMPRA ELETRÔNICOS",
         "2024-05-02T14:30:00Z",
         "5555666677778888",
         "MARIA OLIVEIRA",
         "2023-12-02T14:30:00Z",
         "POUPANÇA",
         "2023-05-15T14:30:00Z"
        ],
        [
         "MARIA",
         "OLIVEIRA",
         28,
         "250",
         "COMPRA ELETRÔNICOS",
         "2024-07-02T14:30:00Z",
         "5555666677778888",
         "MARIA OLIVEIRA",
         "2023-12-02T14:30:00Z",
         "POUPANÇA",
         "2023-05-15T14:30:00Z"
        ],
        [
         "PRISCILA",
         "LOPES",
         25,
         "100",
         "TAXA BANCÁRIA",
         "2024-01-30T13:45:00Z",
         "0011223344556677",
         "PRISCILA LOPES",
         "2023-12-30T13:00:00Z",
         "POUPANÇA",
         "2023-10-20T12:15:00Z"
        ],
        [
         "PRISCILA",
         "LOPES",
         25,
         "80",
         "TAXA BANCÁRIA",
         "2024-03-30T13:45:00Z",
         "0011223344556677",
         "PRISCILA LOPES",
         "2023-12-30T13:00:00Z",
         "POUPANÇA",
         "2023-10-20T12:15:00Z"
        ],
        [
         "PRISCILA",
         "LOPES",
         25,
         "90",
         "TAXA BANCÁRIA",
         "2024-05-30T13:45:00Z",
         "0011223344556677",
         "PRISCILA LOPES",
         "2023-12-30T13:00:00Z",
         "POUPANÇA",
         "2023-10-20T12:15:00Z"
        ],
        [
         "PRISCILA",
         "LOPES",
         25,
         "300",
         "TAXA BANCÁRIA",
         "2024-07-30T13:45:00Z",
         "0011223344556677",
         "PRISCILA LOPES",
         "2023-12-30T13:00:00Z",
         "POUPANÇA",
         "2023-10-20T12:15:00Z"
        ],
        [
         "HELENA",
         "MENDES",
         25,
         "300",
         "GASOLINA",
         "2024-02-16T09:50:00Z",
         "6677889900112235",
         "HELENA MENDES",
         "2024-01-16T10:00:00Z",
         "POUPANÇA",
         "2023-09-25T16:25:00Z"
        ],
        [
         "HELENA",
         "MENDES",
         25,
         "300",
         "GASOLINA",
         "2024-04-16T09:50:00Z",
         "6677889900112235",
         "HELENA MENDES",
         "2024-01-16T10:00:00Z",
         "POUPANÇA",
         "2023-09-25T16:25:00Z"
        ],
        [
         "HELENA",
         "MENDES",
         25,
         "250",
         "GASOLINA",
         "2024-06-16T09:50:00Z",
         "6677889900112235",
         "HELENA MENDES",
         "2024-01-16T10:00:00Z",
         "POUPANÇA",
         "2023-09-25T16:25:00Z"
        ],
        [
         "HELENA",
         "MENDES",
         25,
         "300",
         "GASOLINA",
         "2024-08-16T09:50:00Z",
         "6677889900112235",
         "HELENA MENDES",
         "2024-01-16T10:00:00Z",
         "POUPANÇA",
         "2023-09-25T16:25:00Z"
        ],
        [
         "VANESSA",
         "CORREIA",
         34,
         "120",
         "JANTAR EM RESTAURANTE",
         "2024-01-18T09:50:00Z",
         "0123012301231234",
         "VANESSA CORREIA",
         "2023-12-18T09:50:00Z",
         "POUPANÇA",
         "2023-11-30T16:20:00Z"
        ],
        [
         "VANESSA",
         "CORREIA",
         34,
         "251",
         "JANTAR EM RESTAURANTE",
         "2024-03-18T09:50:00Z",
         "0123012301231234",
         "VANESSA CORREIA",
         "2023-12-18T09:50:00Z",
         "POUPANÇA",
         "2023-11-30T16:20:00Z"
        ],
        [
         "VANESSA",
         "CORREIA",
         34,
         "130",
         "JANTAR EM RESTAURANTE",
         "2024-05-18T09:50:00Z",
         "0123012301231234",
         "VANESSA CORREIA",
         "2023-12-18T09:50:00Z",
         "POUPANÇA",
         "2023-11-30T16:20:00Z"
        ],
        [
         "VANESSA",
         "CORREIA",
         34,
         "200",
         "JANTAR EM RESTAURANTE",
         "2024-07-18T09:50:00Z",
         "0123012301231234",
         "VANESSA CORREIA",
         "2023-12-18T09:50:00Z",
         "POUPANÇA",
         "2023-11-30T16:20:00Z"
        ],
        [
         "TATIANA",
         "CARDOSO",
         26,
         "300",
         "GASOLINA",
         "2024-02-06T16:20:00Z",
         "6677889900112234",
         "TATIANA CARDOSO",
         "2024-01-06T13:20:00Z",
         "POUPANÇA",
         "2023-11-25T15:30:00Z"
        ],
        [
         "TATIANA",
         "CARDOSO",
         26,
         "300",
         "GASOLINA",
         "2024-04-06T16:20:00Z",
         "6677889900112234",
         "TATIANA CARDOSO",
         "2024-01-06T13:20:00Z",
         "POUPANÇA",
         "2023-11-25T15:30:00Z"
        ],
        [
         "TATIANA",
         "CARDOSO",
         26,
         "300",
         "GASOLINA",
         "2024-06-06T16:20:00Z",
         "6677889900112234",
         "TATIANA CARDOSO",
         "2024-01-06T13:20:00Z",
         "POUPANÇA",
         "2023-11-25T15:30:00Z"
        ],
        [
         "TATIANA",
         "CARDOSO",
         26,
         "300",
         "GASOLINA",
         "2024-08-06T16:20:00Z",
         "6677889900112234",
         "TATIANA CARDOSO",
         "2024-01-06T13:20:00Z",
         "POUPANÇA",
         "2023-11-25T15:30:00Z"
        ]
       ],
       "datasetInfos": [],
       "dbfsResultPath": null,
       "isJsonSchema": true,
       "metadata": {},
       "overflow": false,
       "plotOptions": {
        "customPlotOptions": {},
        "displayType": "table",
        "pivotAggregation": null,
        "pivotColumns": null,
        "xColumns": null,
        "yColumns": null
       },
       "removedWidgets": [],
       "schema": [
        {
         "metadata": "{}",
         "name": "nome_associado",
         "type": "\"string\""
        },
        {
         "metadata": "{}",
         "name": "sobrenome_associado",
         "type": "\"string\""
        },
        {
         "metadata": "{}",
         "name": "idade_associado",
         "type": "\"integer\""
        },
        {
         "metadata": "{}",
         "name": "vlr_transacao_movimento",
         "type": "\"decimal(10,0)\""
        },
        {
         "metadata": "{}",
         "name": "des_transacao_movimento",
         "type": "\"string\""
        },
        {
         "metadata": "{}",
         "name": "data_movimento",
         "type": "\"timestamp\""
        },
        {
         "metadata": "{}",
         "name": "numero_cartao",
         "type": "\"string\""
        },
        {
         "metadata": "{}",
         "name": "nome_impresso_cartao",
         "type": "\"string\""
        },
        {
         "metadata": "{}",
         "name": "data_criacao_cartao",
         "type": "\"timestamp\""
        },
        {
         "metadata": "{}",
         "name": "tipo_conta",
         "type": "\"string\""
        },
        {
         "metadata": "{}",
         "name": "data_criacao_conta",
         "type": "\"timestamp\""
        }
       ],
       "type": "table"
      }
     },
     "output_type": "display_data"
    }
   ],
   "source": [
    "# Unindo a tabela de Associados e Contas\n",
    "associado_conta_df = associados_silver_df.join(contas_silver_df, on='associado_id').select(  # Unindo pela chave associado_id\n",
    "    associados_silver_df.nome.alias('nome_associado'),\n",
    "    associados_silver_df.sobrenome.alias('sobrenome_associado'),\n",
    "    associados_silver_df.idade.alias('idade_associado'),\n",
    "    contas_silver_df.tipo.alias('tipo_conta'),\n",
    "    contas_silver_df.data_criacao.alias('data_criacao_conta'),\n",
    "    associados_silver_df.associado_id,\n",
    "    contas_silver_df.conta_id\n",
    ")\n",
    "\n",
    "# Unindo a tabela de Cartões com Movimentações\n",
    "movimento_cartao_df = cartoes_silver_df.join(movimentacoes_silver_df, on='cartao_id').select(  # Unindo pela chave cartao_id\n",
    "    movimentacoes_silver_df.vlr_transacao.alias('vlr_transacao_movimento'),\n",
    "    movimentacoes_silver_df.des_transacao.alias('des_transacao_movimento'),\n",
    "    movimentacoes_silver_df.data_movimento,\n",
    "    cartoes_silver_df.num_cartao.alias('numero_cartao'),\n",
    "    cartoes_silver_df.nom_impresso.alias('nome_impresso_cartao'),\n",
    "    cartoes_silver_df.data_criacao.alias('data_criacao_cartao'),\n",
    "    cartoes_silver_df.conta_id,\n",
    "    cartoes_silver_df.associado_id\n",
    ")\n",
    "\n",
    "# Unindo as duas tabelas resultantes em uma só para obter o resultado final\n",
    "movimento_flat_df = associado_conta_df.join(movimento_cartao_df, on=['associado_id', 'conta_id']).drop(  # Unindo pelas chaves associado_id e conta_id\n",
    "    associado_conta_df.associado_id,\n",
    "    associado_conta_df.conta_id\n",
    ")\n",
    "\n",
    "# Especificando a ordem das colunas\n",
    "column_order = [\n",
    "    'nome_associado',\n",
    "    'sobrenome_associado',\n",
    "    'idade_associado',\n",
    "    'vlr_transacao_movimento',\n",
    "    'des_transacao_movimento',\n",
    "    'data_movimento',\n",
    "    'numero_cartao',\n",
    "    'nome_impresso_cartao',\n",
    "    'data_criacao_cartao',\n",
    "    'tipo_conta',\n",
    "    'data_criacao_conta'\n",
    "]\n",
    "\n",
    "# Aplicando a ordem desejada\n",
    "movimento_flat_df = movimento_flat_df.select(column_order)\n",
    "\n",
    "# Mostrando resultado\n",
    "display(movimento_flat_df)\n"
   ]
  },
  {
   "cell_type": "code",
   "execution_count": 0,
   "metadata": {
    "application/vnd.databricks.v1+cell": {
     "cellMetadata": {
      "byteLimit": 2048000,
      "rowLimit": 10000
     },
     "inputWidgets": {},
     "nuid": "6480323c-73d4-4599-93cd-c74f34641b8b",
     "showTitle": true,
     "tableResultSettingsMap": {},
     "title": "Salvando arquivo CSV na camada silver"
    }
   },
   "outputs": [
    {
     "output_type": "stream",
     "name": "stdout",
     "output_type": "stream",
     "text": [
      "Arquivo 'movimento_flat' salvo com sucesso.\n"
     ]
    }
   ],
   "source": [
    "# Salvando DataFrame na camada Silver\n",
    "Utils.write_csv(movimento_flat_df, 'silver', 'movimento_flat')"
   ]
  },
  {
   "cell_type": "code",
   "execution_count": 0,
   "metadata": {
    "application/vnd.databricks.v1+cell": {
     "cellMetadata": {
      "byteLimit": 2048000,
      "rowLimit": 10000
     },
     "inputWidgets": {},
     "nuid": "95ee3857-25ec-4569-8bbb-9c87caab677f",
     "showTitle": true,
     "tableResultSettingsMap": {},
     "title": "Salvando tabela na camada Silver"
    }
   },
   "outputs": [
    {
     "output_type": "stream",
     "name": "stdout",
     "output_type": "stream",
     "text": [
      "Tabela 'silver_movimento_flat' salva com sucesso.\n"
     ]
    }
   ],
   "source": [
    "# Criando tabela na camada silver\n",
    "Utils.save_as_table(movimento_flat_df, 'silver', 'movimento_flat')"
   ]
  },
  {
   "cell_type": "code",
   "execution_count": 0,
   "metadata": {
    "application/vnd.databricks.v1+cell": {
     "cellMetadata": {
      "byteLimit": 2048000,
      "rowLimit": 10000
     },
     "inputWidgets": {},
     "nuid": "cd578919-77bc-49f3-b9e0-8cb237b51031",
     "showTitle": true,
     "tableResultSettingsMap": {},
     "title": "Agrupando dados para camada gold"
    }
   },
   "outputs": [
    {
     "output_type": "display_data",
     "data": {
      "text/html": [
       "<style scoped>\n",
       "  .table-result-container {\n",
       "    max-height: 300px;\n",
       "    overflow: auto;\n",
       "  }\n",
       "  table, th, td {\n",
       "    border: 1px solid black;\n",
       "    border-collapse: collapse;\n",
       "  }\n",
       "  th, td {\n",
       "    padding: 5px;\n",
       "  }\n",
       "  th {\n",
       "    text-align: left;\n",
       "  }\n",
       "</style><div class='table-result-container'><table class='table-result'><thead style='background-color: white'><tr><th>nome_associado</th><th>sobrenome_associado</th><th>idade_associado</th><th>numero_cartao</th><th>tipo_conta</th><th>total_gastos</th><th>num_transacoes</th><th>gasto_medio</th><th>gasto_maximo</th><th>gasto_minimo</th></tr></thead><tbody><tr><td>ALINE</td><td>RIBEIRO</td><td>29</td><td>4444555566667777</td><td>POUPANÇA</td><td>190</td><td>4</td><td>47.5000</td><td>50</td><td>40</td></tr><tr><td>NATÁLIA</td><td>DIAS</td><td>26</td><td>4455667788990011</td><td>POUPANÇA</td><td>385</td><td>4</td><td>96.2500</td><td>120</td><td>75</td></tr><tr><td>LUCAS</td><td>MARTINS</td><td>33</td><td>1234123412341234</td><td>CORRENTE</td><td>875</td><td>4</td><td>218.7500</td><td>300</td><td>175</td></tr><tr><td>SÉRGIO</td><td>MORAIS</td><td>45</td><td>5566778899001123</td><td>CORRENTE</td><td>870</td><td>4</td><td>217.5000</td><td>230</td><td>200</td></tr><tr><td>AUGUSTO</td><td>ANDRADE</td><td>37</td><td>1122334455667781</td><td>CORRENTE</td><td>1350</td><td>4</td><td>337.5000</td><td>350</td><td>300</td></tr><tr><td>LARISSA</td><td>MELO</td><td>24</td><td>2345234523451234</td><td>POUPANÇA</td><td>356</td><td>4</td><td>89.0000</td><td>120</td><td>76</td></tr><tr><td>GUILHERME</td><td>TEIXEIRA</td><td>28</td><td>1122334455667788</td><td>CORRENTE</td><td>621</td><td>4</td><td>155.2500</td><td>220</td><td>100</td></tr><tr><td>JOSÉ</td><td>MOREIRA</td><td>30</td><td>5566778899001124</td><td>CORRENTE</td><td>770</td><td>4</td><td>192.5000</td><td>230</td><td>100</td></tr><tr><td>FELIPE</td><td>ARAÚJO</td><td>42</td><td>7890789078905678</td><td>CORRENTE</td><td>781</td><td>4</td><td>195.2500</td><td>320</td><td>60</td></tr><tr><td>MANUELA</td><td>AGUIAR</td><td>28</td><td>8899001122334457</td><td>POUPANÇA</td><td>1550</td><td>4</td><td>387.5000</td><td>500</td><td>350</td></tr><tr><td>JOÃO</td><td>SILVA</td><td>30</td><td>1111222233334444</td><td>CORRENTE</td><td>672</td><td>4</td><td>168.0000</td><td>220</td><td>101</td></tr><tr><td>ISABELA</td><td>SIQUEIRA</td><td>34</td><td>0011223344556678</td><td>POUPANÇA</td><td>1080</td><td>4</td><td>270.0000</td><td>400</td><td>80</td></tr><tr><td>LEANDRO</td><td>PINTO</td><td>39</td><td>5566778899001122</td><td>CORRENTE</td><td>840</td><td>4</td><td>210.0000</td><td>250</td><td>150</td></tr><tr><td>HELENA</td><td>MENDES</td><td>25</td><td>6677889900112235</td><td>POUPANÇA</td><td>1150</td><td>4</td><td>287.5000</td><td>300</td><td>250</td></tr><tr><td>ROGÉRIO</td><td>CAMPOS</td><td>35</td><td>7788990011223346</td><td>CORRENTE</td><td>1290</td><td>4</td><td>322.5000</td><td>400</td><td>250</td></tr><tr><td>RAFAEL</td><td>SILVEIRA</td><td>38</td><td>9900112233445567</td><td>CORRENTE</td><td>970</td><td>4</td><td>242.5000</td><td>300</td><td>150</td></tr><tr><td>CARLOS</td><td>LIMA</td><td>40</td><td>7777888899990000</td><td>CORRENTE</td><td>620</td><td>4</td><td>155.0000</td><td>250</td><td>90</td></tr><tr><td>TIAGO</td><td>FARIAS</td><td>37</td><td>6789678967895678</td><td>CORRENTE</td><td>970</td><td>4</td><td>242.5000</td><td>320</td><td>150</td></tr><tr><td>MARCELO</td><td>MOURA</td><td>41</td><td>7788990011223345</td><td>CORRENTE</td><td>1100</td><td>4</td><td>275.0000</td><td>350</td><td>250</td></tr><tr><td>RICARDO</td><td>PEREIRA</td><td>38</td><td>6666777788889999</td><td>CORRENTE</td><td>286</td><td>4</td><td>71.5000</td><td>90</td><td>46</td></tr><tr><td>PAULO</td><td>FERREIRA</td><td>45</td><td>8888999900001111</td><td>CORRENTE</td><td>591</td><td>4</td><td>147.7500</td><td>200</td><td>121</td></tr><tr><td>VANESSA</td><td>CORREIA</td><td>34</td><td>0123012301231234</td><td>POUPANÇA</td><td>701</td><td>4</td><td>175.2500</td><td>251</td><td>120</td></tr><tr><td>CARLA</td><td>FERNANDES</td><td>29</td><td>2233445566778891</td><td>POUPANÇA</td><td>1270</td><td>4</td><td>317.5000</td><td>500</td><td>200</td></tr><tr><td>THAÍS</td><td>MONTEIRO</td><td>27</td><td>2233445566778899</td><td>POUPANÇA</td><td>820</td><td>4</td><td>205.0000</td><td>400</td><td>60</td></tr><tr><td>JÚLIA</td><td>FONSECA</td><td>31</td><td>8899001122334455</td><td>POUPANÇA</td><td>1200</td><td>4</td><td>300.0000</td><td>500</td><td>150</td></tr><tr><td>MAURÍCIO</td><td>MACHADO</td><td>42</td><td>1122334455667780</td><td>CORRENTE</td><td>1080</td><td>4</td><td>270.0000</td><td>400</td><td>130</td></tr><tr><td>BRUNO</td><td>TAVARES</td><td>33</td><td>3344556677889902</td><td>CORRENTE</td><td>480</td><td>4</td><td>120.0000</td><td>180</td><td>60</td></tr><tr><td>RODRIGO</td><td>REZENDE</td><td>33</td><td>7788990011223344</td><td>CORRENTE</td><td>1470</td><td>4</td><td>367.5000</td><td>420</td><td>300</td></tr><tr><td>EDUARDO</td><td>VIEIRA</td><td>36</td><td>9900112233445566</td><td>CORRENTE</td><td>970</td><td>4</td><td>242.5000</td><td>250</td><td>220</td></tr><tr><td>MARIA</td><td>OLIVEIRA</td><td>28</td><td>5555666677778888</td><td>POUPANÇA</td><td>741</td><td>4</td><td>185.2500</td><td>250</td><td>91</td></tr><tr><td>ANDRÉ</td><td>ROCHA</td><td>35</td><td>3344556677889900</td><td>CORRENTE</td><td>585</td><td>4</td><td>146.2500</td><td>180</td><td>75</td></tr><tr><td>JULIANA</td><td>ALMEIDA</td><td>32</td><td>2222333344445555</td><td>POUPANÇA</td><td>1132</td><td>4</td><td>283.0000</td><td>350</td><td>181</td></tr><tr><td>LUANA</td><td>XAVIER</td><td>27</td><td>8899001122334456</td><td>POUPANÇA</td><td>720</td><td>4</td><td>180.0000</td><td>220</td><td>100</td></tr><tr><td>RENATO</td><td>NOGUEIRA</td><td>41</td><td>4567456745675678</td><td>CORRENTE</td><td>900</td><td>4</td><td>225.0000</td><td>300</td><td>150</td></tr><tr><td>MARIANA</td><td>BATISTA</td><td>30</td><td>8901890189011234</td><td>POUPANÇA</td><td>931</td><td>4</td><td>232.7500</td><td>300</td><td>131</td></tr><tr><td>PEDRO</td><td>SANTOS</td><td>35</td><td>9999000011112222</td><td>CORRENTE</td><td>765</td><td>4</td><td>191.2500</td><td>300</td><td>75</td></tr><tr><td>VINÍCIUS</td><td>GOMES</td><td>36</td><td>9012901290125678</td><td>CORRENTE</td><td>470</td><td>4</td><td>117.5000</td><td>140</td><td>100</td></tr><tr><td>SOFIA</td><td>BORGES</td><td>24</td><td>0011223344556679</td><td>POUPANÇA</td><td>950</td><td>4</td><td>237.5000</td><td>300</td><td>200</td></tr><tr><td>ANA</td><td>SOUZA</td><td>26</td><td>3333444455556666</td><td>POUPANÇA</td><td>606</td><td>4</td><td>151.5000</td><td>300</td><td>75</td></tr><tr><td>FERNANDA</td><td>COSTA</td><td>27</td><td>0000111122223333</td><td>POUPANÇA</td><td>780</td><td>4</td><td>195.0000</td><td>230</td><td>150</td></tr><tr><td>PATRÍCIA</td><td>NASCIMENTO</td><td>32</td><td>6677889900112233</td><td>POUPANÇA</td><td>930</td><td>4</td><td>232.5000</td><td>350</td><td>120</td></tr><tr><td>PRISCILA</td><td>LOPES</td><td>25</td><td>0011223344556677</td><td>POUPANÇA</td><td>570</td><td>4</td><td>142.5000</td><td>300</td><td>80</td></tr><tr><td>DANIELE</td><td>CASTRO</td><td>31</td><td>4455667788990013</td><td>POUPANÇA</td><td>520</td><td>4</td><td>130.0000</td><td>150</td><td>90</td></tr><tr><td>ROBERTA</td><td>ANTUNES</td><td>28</td><td>4455667788990012</td><td>POUPANÇA</td><td>365</td><td>4</td><td>91.2500</td><td>120</td><td>50</td></tr><tr><td>DIEGO</td><td>BARROS</td><td>37</td><td>1122334455667789</td><td>CORRENTE</td><td>655</td><td>4</td><td>163.7500</td><td>180</td><td>150</td></tr><tr><td>AMANDA</td><td>CAMPOS</td><td>29</td><td>2233445566778890</td><td>POUPANÇA</td><td>665</td><td>4</td><td>166.2500</td><td>210</td><td>125</td></tr><tr><td>FÁBIO</td><td>FREITAS</td><td>40</td><td>3344556677889901</td><td>CORRENTE</td><td>380</td><td>4</td><td>95.0000</td><td>100</td><td>90</td></tr><tr><td>CAMILA</td><td>BARBOSA</td><td>25</td><td>5678567856781234</td><td>POUPANÇA</td><td>1095</td><td>4</td><td>273.7500</td><td>400</td><td>220</td></tr><tr><td>CLÁUDIO</td><td>GUIMARÃES</td><td>39</td><td>9900112233445568</td><td>CORRENTE</td><td>1800</td><td>4</td><td>450.0000</td><td>600</td><td>400</td></tr><tr><td>TATIANA</td><td>CARDOSO</td><td>26</td><td>6677889900112234</td><td>POUPANÇA</td><td>1200</td><td>4</td><td>300.0000</td><td>300</td><td>300</td></tr><tr><td>BIANCA</td><td>CARVALHO</td><td>31</td><td>3456345634561234</td><td>POUPANÇA</td><td>890</td><td>4</td><td>222.5000</td><td>300</td><td>170</td></tr></tbody></table></div>"
      ]
     },
     "metadata": {
      "application/vnd.databricks.v1+output": {
       "addedWidgets": {},
       "aggData": [],
       "aggError": "",
       "aggOverflow": false,
       "aggSchema": [],
       "aggSeriesLimitReached": false,
       "aggType": "",
       "arguments": {},
       "columnCustomDisplayInfos": {},
       "data": [
        [
         "ALINE",
         "RIBEIRO",
         29,
         "4444555566667777",
         "POUPANÇA",
         "190",
         4,
         "47.5000",
         "50",
         "40"
        ],
        [
         "NATÁLIA",
         "DIAS",
         26,
         "4455667788990011",
         "POUPANÇA",
         "385",
         4,
         "96.2500",
         "120",
         "75"
        ],
        [
         "LUCAS",
         "MARTINS",
         33,
         "1234123412341234",
         "CORRENTE",
         "875",
         4,
         "218.7500",
         "300",
         "175"
        ],
        [
         "SÉRGIO",
         "MORAIS",
         45,
         "5566778899001123",
         "CORRENTE",
         "870",
         4,
         "217.5000",
         "230",
         "200"
        ],
        [
         "AUGUSTO",
         "ANDRADE",
         37,
         "1122334455667781",
         "CORRENTE",
         "1350",
         4,
         "337.5000",
         "350",
         "300"
        ],
        [
         "LARISSA",
         "MELO",
         24,
         "2345234523451234",
         "POUPANÇA",
         "356",
         4,
         "89.0000",
         "120",
         "76"
        ],
        [
         "GUILHERME",
         "TEIXEIRA",
         28,
         "1122334455667788",
         "CORRENTE",
         "621",
         4,
         "155.2500",
         "220",
         "100"
        ],
        [
         "JOSÉ",
         "MOREIRA",
         30,
         "5566778899001124",
         "CORRENTE",
         "770",
         4,
         "192.5000",
         "230",
         "100"
        ],
        [
         "FELIPE",
         "ARAÚJO",
         42,
         "7890789078905678",
         "CORRENTE",
         "781",
         4,
         "195.2500",
         "320",
         "60"
        ],
        [
         "MANUELA",
         "AGUIAR",
         28,
         "8899001122334457",
         "POUPANÇA",
         "1550",
         4,
         "387.5000",
         "500",
         "350"
        ],
        [
         "JOÃO",
         "SILVA",
         30,
         "1111222233334444",
         "CORRENTE",
         "672",
         4,
         "168.0000",
         "220",
         "101"
        ],
        [
         "ISABELA",
         "SIQUEIRA",
         34,
         "0011223344556678",
         "POUPANÇA",
         "1080",
         4,
         "270.0000",
         "400",
         "80"
        ],
        [
         "LEANDRO",
         "PINTO",
         39,
         "5566778899001122",
         "CORRENTE",
         "840",
         4,
         "210.0000",
         "250",
         "150"
        ],
        [
         "HELENA",
         "MENDES",
         25,
         "6677889900112235",
         "POUPANÇA",
         "1150",
         4,
         "287.5000",
         "300",
         "250"
        ],
        [
         "ROGÉRIO",
         "CAMPOS",
         35,
         "7788990011223346",
         "CORRENTE",
         "1290",
         4,
         "322.5000",
         "400",
         "250"
        ],
        [
         "RAFAEL",
         "SILVEIRA",
         38,
         "9900112233445567",
         "CORRENTE",
         "970",
         4,
         "242.5000",
         "300",
         "150"
        ],
        [
         "CARLOS",
         "LIMA",
         40,
         "7777888899990000",
         "CORRENTE",
         "620",
         4,
         "155.0000",
         "250",
         "90"
        ],
        [
         "TIAGO",
         "FARIAS",
         37,
         "6789678967895678",
         "CORRENTE",
         "970",
         4,
         "242.5000",
         "320",
         "150"
        ],
        [
         "MARCELO",
         "MOURA",
         41,
         "7788990011223345",
         "CORRENTE",
         "1100",
         4,
         "275.0000",
         "350",
         "250"
        ],
        [
         "RICARDO",
         "PEREIRA",
         38,
         "6666777788889999",
         "CORRENTE",
         "286",
         4,
         "71.5000",
         "90",
         "46"
        ],
        [
         "PAULO",
         "FERREIRA",
         45,
         "8888999900001111",
         "CORRENTE",
         "591",
         4,
         "147.7500",
         "200",
         "121"
        ],
        [
         "VANESSA",
         "CORREIA",
         34,
         "0123012301231234",
         "POUPANÇA",
         "701",
         4,
         "175.2500",
         "251",
         "120"
        ],
        [
         "CARLA",
         "FERNANDES",
         29,
         "2233445566778891",
         "POUPANÇA",
         "1270",
         4,
         "317.5000",
         "500",
         "200"
        ],
        [
         "THAÍS",
         "MONTEIRO",
         27,
         "2233445566778899",
         "POUPANÇA",
         "820",
         4,
         "205.0000",
         "400",
         "60"
        ],
        [
         "JÚLIA",
         "FONSECA",
         31,
         "8899001122334455",
         "POUPANÇA",
         "1200",
         4,
         "300.0000",
         "500",
         "150"
        ],
        [
         "MAURÍCIO",
         "MACHADO",
         42,
         "1122334455667780",
         "CORRENTE",
         "1080",
         4,
         "270.0000",
         "400",
         "130"
        ],
        [
         "BRUNO",
         "TAVARES",
         33,
         "3344556677889902",
         "CORRENTE",
         "480",
         4,
         "120.0000",
         "180",
         "60"
        ],
        [
         "RODRIGO",
         "REZENDE",
         33,
         "7788990011223344",
         "CORRENTE",
         "1470",
         4,
         "367.5000",
         "420",
         "300"
        ],
        [
         "EDUARDO",
         "VIEIRA",
         36,
         "9900112233445566",
         "CORRENTE",
         "970",
         4,
         "242.5000",
         "250",
         "220"
        ],
        [
         "MARIA",
         "OLIVEIRA",
         28,
         "5555666677778888",
         "POUPANÇA",
         "741",
         4,
         "185.2500",
         "250",
         "91"
        ],
        [
         "ANDRÉ",
         "ROCHA",
         35,
         "3344556677889900",
         "CORRENTE",
         "585",
         4,
         "146.2500",
         "180",
         "75"
        ],
        [
         "JULIANA",
         "ALMEIDA",
         32,
         "2222333344445555",
         "POUPANÇA",
         "1132",
         4,
         "283.0000",
         "350",
         "181"
        ],
        [
         "LUANA",
         "XAVIER",
         27,
         "8899001122334456",
         "POUPANÇA",
         "720",
         4,
         "180.0000",
         "220",
         "100"
        ],
        [
         "RENATO",
         "NOGUEIRA",
         41,
         "4567456745675678",
         "CORRENTE",
         "900",
         4,
         "225.0000",
         "300",
         "150"
        ],
        [
         "MARIANA",
         "BATISTA",
         30,
         "8901890189011234",
         "POUPANÇA",
         "931",
         4,
         "232.7500",
         "300",
         "131"
        ],
        [
         "PEDRO",
         "SANTOS",
         35,
         "9999000011112222",
         "CORRENTE",
         "765",
         4,
         "191.2500",
         "300",
         "75"
        ],
        [
         "VINÍCIUS",
         "GOMES",
         36,
         "9012901290125678",
         "CORRENTE",
         "470",
         4,
         "117.5000",
         "140",
         "100"
        ],
        [
         "SOFIA",
         "BORGES",
         24,
         "0011223344556679",
         "POUPANÇA",
         "950",
         4,
         "237.5000",
         "300",
         "200"
        ],
        [
         "ANA",
         "SOUZA",
         26,
         "3333444455556666",
         "POUPANÇA",
         "606",
         4,
         "151.5000",
         "300",
         "75"
        ],
        [
         "FERNANDA",
         "COSTA",
         27,
         "0000111122223333",
         "POUPANÇA",
         "780",
         4,
         "195.0000",
         "230",
         "150"
        ],
        [
         "PATRÍCIA",
         "NASCIMENTO",
         32,
         "6677889900112233",
         "POUPANÇA",
         "930",
         4,
         "232.5000",
         "350",
         "120"
        ],
        [
         "PRISCILA",
         "LOPES",
         25,
         "0011223344556677",
         "POUPANÇA",
         "570",
         4,
         "142.5000",
         "300",
         "80"
        ],
        [
         "DANIELE",
         "CASTRO",
         31,
         "4455667788990013",
         "POUPANÇA",
         "520",
         4,
         "130.0000",
         "150",
         "90"
        ],
        [
         "ROBERTA",
         "ANTUNES",
         28,
         "4455667788990012",
         "POUPANÇA",
         "365",
         4,
         "91.2500",
         "120",
         "50"
        ],
        [
         "DIEGO",
         "BARROS",
         37,
         "1122334455667789",
         "CORRENTE",
         "655",
         4,
         "163.7500",
         "180",
         "150"
        ],
        [
         "AMANDA",
         "CAMPOS",
         29,
         "2233445566778890",
         "POUPANÇA",
         "665",
         4,
         "166.2500",
         "210",
         "125"
        ],
        [
         "FÁBIO",
         "FREITAS",
         40,
         "3344556677889901",
         "CORRENTE",
         "380",
         4,
         "95.0000",
         "100",
         "90"
        ],
        [
         "CAMILA",
         "BARBOSA",
         25,
         "5678567856781234",
         "POUPANÇA",
         "1095",
         4,
         "273.7500",
         "400",
         "220"
        ],
        [
         "CLÁUDIO",
         "GUIMARÃES",
         39,
         "9900112233445568",
         "CORRENTE",
         "1800",
         4,
         "450.0000",
         "600",
         "400"
        ],
        [
         "TATIANA",
         "CARDOSO",
         26,
         "6677889900112234",
         "POUPANÇA",
         "1200",
         4,
         "300.0000",
         "300",
         "300"
        ],
        [
         "BIANCA",
         "CARVALHO",
         31,
         "3456345634561234",
         "POUPANÇA",
         "890",
         4,
         "222.5000",
         "300",
         "170"
        ]
       ],
       "datasetInfos": [],
       "dbfsResultPath": null,
       "isJsonSchema": true,
       "metadata": {},
       "overflow": false,
       "plotOptions": {
        "customPlotOptions": {},
        "displayType": "table",
        "pivotAggregation": null,
        "pivotColumns": null,
        "xColumns": null,
        "yColumns": null
       },
       "removedWidgets": [],
       "schema": [
        {
         "metadata": "{}",
         "name": "nome_associado",
         "type": "\"string\""
        },
        {
         "metadata": "{}",
         "name": "sobrenome_associado",
         "type": "\"string\""
        },
        {
         "metadata": "{}",
         "name": "idade_associado",
         "type": "\"integer\""
        },
        {
         "metadata": "{}",
         "name": "numero_cartao",
         "type": "\"string\""
        },
        {
         "metadata": "{}",
         "name": "tipo_conta",
         "type": "\"string\""
        },
        {
         "metadata": "{}",
         "name": "total_gastos",
         "type": "\"decimal(20,0)\""
        },
        {
         "metadata": "{}",
         "name": "num_transacoes",
         "type": "\"long\""
        },
        {
         "metadata": "{}",
         "name": "gasto_medio",
         "type": "\"decimal(14,4)\""
        },
        {
         "metadata": "{}",
         "name": "gasto_maximo",
         "type": "\"decimal(10,0)\""
        },
        {
         "metadata": "{}",
         "name": "gasto_minimo",
         "type": "\"decimal(10,0)\""
        }
       ],
       "type": "table"
      }
     },
     "output_type": "display_data"
    }
   ],
   "source": [
    "# Agrupar e sumarizar os gastos por pessoa e cartão\n",
    "resumo_gastos_df = movimento_flat_df.groupBy(\n",
    "    'nome_associado',\n",
    "    'sobrenome_associado',\n",
    "    'idade_associado',\n",
    "    'numero_cartao',\n",
    "    'tipo_conta'\n",
    ").agg(  # Realizando diferentes agregações para obter um sumarizado dos dados\n",
    "    f.sum(col('vlr_transacao_movimento')).alias('total_gastos'),\n",
    "    f.count('*').alias('num_transacoes'),\n",
    "    f.avg(col('vlr_transacao_movimento')).alias('gasto_medio'),\n",
    "    f.max(col('vlr_transacao_movimento')).alias('gasto_maximo'),\n",
    "    f.min(col('vlr_transacao_movimento')).alias('gasto_minimo')\n",
    ")\n",
    "\n",
    "# Mostrando resultado\n",
    "display(resumo_gastos_df)\n"
   ]
  },
  {
   "cell_type": "code",
   "execution_count": 0,
   "metadata": {
    "application/vnd.databricks.v1+cell": {
     "cellMetadata": {
      "byteLimit": 2048000,
      "rowLimit": 10000
     },
     "inputWidgets": {},
     "nuid": "83a1817d-2fc6-4523-89c6-eb50dfe7bb18",
     "showTitle": true,
     "tableResultSettingsMap": {},
     "title": "Salvando dados na camada gold"
    }
   },
   "outputs": [
    {
     "output_type": "stream",
     "name": "stdout",
     "output_type": "stream",
     "text": [
      "Arquivo 'resumo_gastos' salvo com sucesso.\n"
     ]
    }
   ],
   "source": [
    "# Salvando DataFrame na camada gold\n",
    "Utils.write_csv(resumo_gastos_df, 'gold', 'resumo_gastos')"
   ]
  },
  {
   "cell_type": "code",
   "execution_count": 0,
   "metadata": {
    "application/vnd.databricks.v1+cell": {
     "cellMetadata": {
      "byteLimit": 2048000,
      "rowLimit": 10000
     },
     "inputWidgets": {},
     "nuid": "e58d464b-3e62-421b-b5f5-0ce55cffe8b3",
     "showTitle": true,
     "tableResultSettingsMap": {},
     "title": "Salvando tabela na camada gold"
    }
   },
   "outputs": [
    {
     "output_type": "stream",
     "name": "stdout",
     "output_type": "stream",
     "text": [
      "Tabela 'gold_resumo_gastos' salva com sucesso.\n"
     ]
    }
   ],
   "source": [
    "# Criando tabela na camada gold\n",
    "Utils.save_as_table(resumo_gastos_df, 'gold', 'resumo_gastos')"
   ]
  }
 ],
 "metadata": {
  "application/vnd.databricks.v1+notebook": {
   "dashboards": [],
   "environmentMetadata": null,
   "language": "python",
   "notebookMetadata": {
    "pythonIndentUnit": 4
   },
   "notebookName": "Desafio DBC",
   "widgets": {}
  }
 },
 "nbformat": 4,
 "nbformat_minor": 0
}
